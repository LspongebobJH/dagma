{
 "cells": [
  {
   "cell_type": "code",
   "execution_count": 8,
   "id": "13a99053-2169-4666-848a-9680e87151fc",
   "metadata": {},
   "outputs": [],
   "source": [
    "import re\n",
    "import pandas as pd\n",
    "import os\n",
    "import pickle\n",
    "import seaborn as sns\n",
    "import numpy as np\n",
    "import sys\n",
    "sys.path.append(\"/Users/jiahang/Documents/dagma/src/dagma/\")\n",
    "import utils\n",
    "import matplotlib.pyplot as plt\n",
    "from tqdm import tqdm\n",
    "\n",
    "def load_data(n_nodes, seed, version_path):\n",
    "    root_path=\"/Users/jiahang/Documents/dagma/src/dagma/simulated_data/\"\n",
    "    with open(os.path.join(root_path, f'{version_path}/W/W_{seed}_0.pkl'), 'rb') as f:\n",
    "        W = pickle.load(f)\n",
    "    with open(os.path.join(root_path, f'{version_path}/X/X_1.pkl'), 'rb') as f:\n",
    "        X = pickle.load(f)\n",
    "    W_est = W['W_est']\n",
    "    W = W['W_est'][:, :n_nodes]\n",
    "    Z = np.abs(W[:n_nodes]) - np.abs(W[n_nodes:])\n",
    "    W_true = X['W_true']\n",
    "    B_true = (W_true != 0)\n",
    "    \n",
    "    W_est_abs = np.abs(W_est)\n",
    "    mask = utils.extract_dag_mask(W_est_abs, 0)\n",
    "    W_est_1 = W_est.copy()\n",
    "    W_est_1[~mask] = 0.\n",
    "    \n",
    "    return B_true, W_est, W_est_1"
   ]
  },
  {
   "cell_type": "code",
   "execution_count": 7,
   "id": "01738222-7cd4-4e45-9da8-48c12120c030",
   "metadata": {},
   "outputs": [],
   "source": [
    "data_60_list = []\n",
    "for i in range(1, 6):\n",
    "    B_true, W_est, W_est_1 = load_data(60, i, 'v35/v60_360')\n",
    "    data_60_list.append((B_true, W_est, W_est_1))"
   ]
  },
  {
   "cell_type": "code",
   "execution_count": null,
   "id": "8b67e90a-c892-4d5b-a980-23bcb27541ec",
   "metadata": {},
   "outputs": [
    {
     "name": "stderr",
     "output_type": "stream",
     "text": [
      " 60%|███████████████████████████████████████████████████████████████████████████████████████████▊                                                             | 3/5 [01:08<00:45, 22.97s/it]"
     ]
    }
   ],
   "source": [
    "data_80_list = []\n",
    "for i in tqdm(range(1, 6)):\n",
    "    B_true, W_est, W_est_1 = load_data(80, i, 'v35/v80_480')\n",
    "    data_60_list.append((B_true, W_est, W_est_1))"
   ]
  },
  {
   "cell_type": "code",
   "execution_count": 6,
   "id": "7fa6c5bc-248c-48cc-b3e5-6c1dfcc3053b",
   "metadata": {},
   "outputs": [
    {
     "data": {
      "text/plain": [
       "0"
      ]
     },
     "execution_count": 6,
     "metadata": {},
     "output_type": "execute_result"
    }
   ],
   "source": [
    "(W_est_1[60:, :] > 0.).sum()"
   ]
  },
  {
   "cell_type": "code",
   "execution_count": null,
   "id": "800902a8-76c4-4bc3-924f-f97245e9e9b5",
   "metadata": {},
   "outputs": [],
   "source": []
  }
 ],
 "metadata": {
  "kernelspec": {
   "display_name": "Python 3 (ipykernel)",
   "language": "python",
   "name": "python3"
  },
  "language_info": {
   "codemirror_mode": {
    "name": "ipython",
    "version": 3
   },
   "file_extension": ".py",
   "mimetype": "text/x-python",
   "name": "python",
   "nbconvert_exporter": "python",
   "pygments_lexer": "ipython3",
   "version": "3.9.19"
  }
 },
 "nbformat": 4,
 "nbformat_minor": 5
}
