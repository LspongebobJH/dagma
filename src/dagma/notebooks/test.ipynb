{
 "cells": [
  {
   "cell_type": "code",
   "execution_count": 21,
   "id": "452d331b-86b2-4652-8b49-57f163897c0e",
   "metadata": {},
   "outputs": [
    {
     "name": "stdout",
     "output_type": "stream",
     "text": [
      "     true fdr true power\n",
      "0      0.0000     0.0000\n",
      "1      0.0000     0.0000\n",
      "2      0.0000     0.0000\n",
      "3      0.0000     0.0000\n",
      "4      0.0000     0.0000\n",
      "...       ...        ...\n",
      "1557   0.8340     0.5563\n",
      "1558   0.8340     0.5563\n",
      "1559   0.8340     0.5563\n",
      "1560   0.8455     0.5563\n",
      "1561   0.8455     0.5563\n",
      "\n",
      "[1562 rows x 2 columns]\n"
     ]
    }
   ],
   "source": [
    "import re\n",
    "import pandas as pd\n",
    "\n",
    "filename = \"/Users/jiahang/Documents/dagma/src/dagma/notebooks/log_52_40_knockoff_2.txt\"\n",
    "\n",
    "pattern = r\"true fdr (\\d+\\.\\d+) \\| true power (\\d+\\.\\d+)\"\n",
    "\n",
    "matches = []\n",
    "with open(filename, 'r') as file:\n",
    "    for line in file:\n",
    "        match = re.search(pattern, line)\n",
    "        if match:\n",
    "            matches.append(match.groups())\n",
    "\n",
    "df = pd.DataFrame(matches, columns=[\"true fdr\", \"true power\"])\n",
    "print(df)"
   ]
  },
  {
   "cell_type": "code",
   "execution_count": 47,
   "id": "b5a78bc3-e503-4745-ab5a-ce733756b9c0",
   "metadata": {},
   "outputs": [
    {
     "name": "stdout",
     "output_type": "stream",
     "text": [
      "     true fdr true power\n",
      "0      0.0000     0.0063\n",
      "1      0.0000     0.0125\n",
      "2      0.0000     0.0187\n",
      "3      0.0000     0.0250\n",
      "4      0.0000     0.0312\n",
      "...       ...        ...\n",
      "1557   0.8592     1.0000\n",
      "1558   0.8593     1.0000\n",
      "1559   0.8594     1.0000\n",
      "1560   0.8642     1.0000\n",
      "1561   0.8642     1.0000\n",
      "\n",
      "[1562 rows x 2 columns]\n"
     ]
    }
   ],
   "source": [
    "import re\n",
    "import pandas as pd\n",
    "\n",
    "filename = \"/Users/jiahang/Documents/dagma/src/dagma/notebooks/log_30_40_knockoff_2.txt\"\n",
    "\n",
    "pattern = r\"true fdr (\\d+\\.\\d+) \\| true power (\\d+\\.\\d+)\"\n",
    "\n",
    "matches = []\n",
    "with open(filename, 'r') as file:\n",
    "    for line in file:\n",
    "        match = re.search(pattern, line)\n",
    "        if match:\n",
    "            matches.append(match.groups())\n",
    "\n",
    "df_base = pd.DataFrame(matches, columns=[\"true fdr\", \"true power\"])\n",
    "print(df_base)"
   ]
  },
  {
   "cell_type": "code",
   "execution_count": 50,
   "id": "b84eaf0f-260e-4ce4-a8ef-4406b953e3f4",
   "metadata": {},
   "outputs": [
    {
     "name": "stdout",
     "output_type": "stream",
     "text": [
      "     true fdr true power\n",
      "0      0.0000     0.0000\n",
      "1      1.0000     0.0000\n",
      "2      1.0000     0.0000\n",
      "3      0.5000     0.0063\n",
      "4      0.5000     0.0063\n",
      "...       ...        ...\n",
      "1596   0.8514     0.6937\n",
      "1597   0.8514     0.6937\n",
      "1598   0.8514     0.6937\n",
      "1599   0.8514     0.6937\n",
      "1600   0.8514     0.6937\n",
      "\n",
      "[1601 rows x 2 columns]\n"
     ]
    }
   ],
   "source": [
    "import re\n",
    "import pandas as pd\n",
    "\n",
    "filename = \"/Users/jiahang/Documents/dagma/src/dagma/notebooks/log_40_40_knockoff_2.txt\"\n",
    "\n",
    "pattern = r\"true fdr (\\d+\\.\\d+) \\| true power (\\d+\\.\\d+)\"\n",
    "\n",
    "matches = []\n",
    "with open(filename, 'r') as file:\n",
    "    for line in file:\n",
    "        match = re.search(pattern, line)\n",
    "        if match:\n",
    "            matches.append(match.groups())\n",
    "\n",
    "df_old_deconv = pd.DataFrame(matches, columns=[\"true fdr\", \"true power\"])\n",
    "print(df_old_deconv)"
   ]
  },
  {
   "cell_type": "code",
   "execution_count": 52,
   "id": "5c158aaf-7d44-4243-9181-f6007c96fd64",
   "metadata": {},
   "outputs": [
    {
     "data": {
      "text/html": [
       "<div>\n",
       "<style scoped>\n",
       "    .dataframe tbody tr th:only-of-type {\n",
       "        vertical-align: middle;\n",
       "    }\n",
       "\n",
       "    .dataframe tbody tr th {\n",
       "        vertical-align: top;\n",
       "    }\n",
       "\n",
       "    .dataframe thead th {\n",
       "        text-align: right;\n",
       "    }\n",
       "</style>\n",
       "<table border=\"1\" class=\"dataframe\">\n",
       "  <thead>\n",
       "    <tr style=\"text-align: right;\">\n",
       "      <th></th>\n",
       "      <th>true fdr</th>\n",
       "      <th>true power</th>\n",
       "    </tr>\n",
       "  </thead>\n",
       "  <tbody>\n",
       "    <tr>\n",
       "      <th>1</th>\n",
       "      <td>1.0000</td>\n",
       "      <td>0.0000</td>\n",
       "    </tr>\n",
       "    <tr>\n",
       "      <th>2</th>\n",
       "      <td>1.0000</td>\n",
       "      <td>0.0000</td>\n",
       "    </tr>\n",
       "    <tr>\n",
       "      <th>3</th>\n",
       "      <td>0.5000</td>\n",
       "      <td>0.0063</td>\n",
       "    </tr>\n",
       "    <tr>\n",
       "      <th>4</th>\n",
       "      <td>0.5000</td>\n",
       "      <td>0.0063</td>\n",
       "    </tr>\n",
       "    <tr>\n",
       "      <th>5</th>\n",
       "      <td>0.6667</td>\n",
       "      <td>0.0063</td>\n",
       "    </tr>\n",
       "    <tr>\n",
       "      <th>...</th>\n",
       "      <td>...</td>\n",
       "      <td>...</td>\n",
       "    </tr>\n",
       "    <tr>\n",
       "      <th>1596</th>\n",
       "      <td>0.8514</td>\n",
       "      <td>0.6937</td>\n",
       "    </tr>\n",
       "    <tr>\n",
       "      <th>1597</th>\n",
       "      <td>0.8514</td>\n",
       "      <td>0.6937</td>\n",
       "    </tr>\n",
       "    <tr>\n",
       "      <th>1598</th>\n",
       "      <td>0.8514</td>\n",
       "      <td>0.6937</td>\n",
       "    </tr>\n",
       "    <tr>\n",
       "      <th>1599</th>\n",
       "      <td>0.8514</td>\n",
       "      <td>0.6937</td>\n",
       "    </tr>\n",
       "    <tr>\n",
       "      <th>1600</th>\n",
       "      <td>0.8514</td>\n",
       "      <td>0.6937</td>\n",
       "    </tr>\n",
       "  </tbody>\n",
       "</table>\n",
       "<p>1600 rows × 2 columns</p>\n",
       "</div>"
      ],
      "text/plain": [
       "     true fdr true power\n",
       "1      1.0000     0.0000\n",
       "2      1.0000     0.0000\n",
       "3      0.5000     0.0063\n",
       "4      0.5000     0.0063\n",
       "5      0.6667     0.0063\n",
       "...       ...        ...\n",
       "1596   0.8514     0.6937\n",
       "1597   0.8514     0.6937\n",
       "1598   0.8514     0.6937\n",
       "1599   0.8514     0.6937\n",
       "1600   0.8514     0.6937\n",
       "\n",
       "[1600 rows x 2 columns]"
      ]
     },
     "execution_count": 52,
     "metadata": {},
     "output_type": "execute_result"
    }
   ],
   "source": [
    "df_old_deconv.iloc[1:]"
   ]
  },
  {
   "cell_type": "code",
   "execution_count": 53,
   "id": "771c02d1-42fa-49a5-9ab3-cf7c76ea8464",
   "metadata": {},
   "outputs": [
    {
     "data": {
      "image/png": "[encoded data removed]",
      "text/plain": [
       "<Figure size 640x480 with 1 Axes>"
      ]
     },
     "metadata": {},
     "output_type": "display_data"
    }
   ],
   "source": [
    "import matplotlib.pyplot as plt\n",
    "plt.plot(df['true fdr'].values.astype(float), df['true power'].values.astype(float), label='new deconv')\n",
    "plt.plot(df_old_deconv.iloc[1:]['true fdr'].values.astype(float), df_old_deconv.iloc[1:]['true power'].values.astype(float), label='old deconv')\n",
    "plt.plot(df_base['true fdr'].values.astype(float), df_base['true power'].values.astype(float), label='baseline')\n",
    "plt.xlabel(\"true fdr\")\n",
    "plt.ylabel(\"true power\")\n",
    "plt.legend()\n",
    "plt.show()"
   ]
  },
  {
   "cell_type": "code",
   "execution_count": 55,
   "id": "319ed638-6545-4cf2-bb4e-0fdf3466dfea",
   "metadata": {},
   "outputs": [
    {
     "data": {
      "image/png": "[encoded data removed]",
      "text/plain": [
       "<Figure size 640x480 with 1 Axes>"
      ]
     },
     "metadata": {},
     "output_type": "display_data"
    }
   ],
   "source": [
    "import matplotlib.pyplot as plt\n",
    "plt.plot(df['true fdr'].values.astype(float), df['true power'].values.astype(float), label='new deconv')\n",
    "plt.plot(df_old_deconv['true fdr'].values.astype(float), df_old_deconv['true power'].values.astype(float), label='old deconv')\n",
    "plt.plot(df_base['true fdr'].values.astype(float), df_base['true power'].values.astype(float), label='baseline')\n",
    "plt.xlabel(\"true fdr\")\n",
    "plt.ylabel(\"true power\")\n",
    "plt.legend()\n",
    "plt.show()"
   ]
  },
  {
   "cell_type": "code",
   "execution_count": 44,
   "id": "243f73c8-d2bd-4624-899c-b2675dffe2b5",
   "metadata": {},
   "outputs": [
    {
     "data": {
      "text/plain": [
       "array([0.    , 0.    , 0.    , ..., 0.834 , 0.8455, 0.8455])"
      ]
     },
     "execution_count": 44,
     "metadata": {},
     "output_type": "execute_result"
    }
   ],
   "source": [
    "df['true fdr'].values.astype(float)"
   ]
  },
  {
   "cell_type": "code",
   "execution_count": 35,
   "id": "f457ab07-3ead-4102-8724-7b091fd9bc8b",
   "metadata": {},
   "outputs": [
    {
     "data": {
      "text/plain": [
       "0.0"
      ]
     },
     "execution_count": 35,
     "metadata": {},
     "output_type": "execute_result"
    }
   ],
   "source": [
    "float(df['true fdr'].min())"
   ]
  },
  {
   "cell_type": "code",
   "execution_count": 36,
   "id": "1ba37059-5ebc-4e56-9dbe-0a6cef94f264",
   "metadata": {},
   "outputs": [
    {
     "data": {
      "text/plain": [
       "0.8455"
      ]
     },
     "execution_count": 36,
     "metadata": {},
     "output_type": "execute_result"
    }
   ],
   "source": [
    "float(df['true fdr'].max())"
   ]
  },
  {
   "cell_type": "code",
   "execution_count": null,
   "id": "e28d2e2a-b801-4313-aaf9-193e74264763",
   "metadata": {},
   "outputs": [],
   "source": []
  }
 ],
 "metadata": {
  "kernelspec": {
   "display_name": "Python 3 (ipykernel)",
   "language": "python",
   "name": "python3"
  },
  "language_info": {
   "codemirror_mode": {
    "name": "ipython",
    "version": 3
   },
   "file_extension": ".py",
   "mimetype": "text/x-python",
   "name": "python",
   "nbconvert_exporter": "python",
   "pygments_lexer": "ipython3",
   "version": "3.9.19"
  }
 },
 "nbformat": 4,
 "nbformat_minor": 5
}
