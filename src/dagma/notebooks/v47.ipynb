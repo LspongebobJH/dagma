{
 "cells": [
  {
   "cell_type": "code",
   "execution_count": 19,
   "id": "5fb72e44-660e-4fff-aba2-dfea46473eb3",
   "metadata": {},
   "outputs": [],
   "source": [
    "import pickle\n",
    "import numpy as np\n",
    "import seaborn as sns"
   ]
  },
  {
   "cell_type": "code",
   "execution_count": 2,
   "id": "4b256644-7343-4ca8-9c58-07e3d5cccf4e",
   "metadata": {},
   "outputs": [
    {
     "name": "stdout",
     "output_type": "stream",
     "text": [
      "/Users/jiahang/Documents/dagma/src/dagma/notebooks\n"
     ]
    }
   ],
   "source": [
    "!pwd"
   ]
  },
  {
   "cell_type": "code",
   "execution_count": 5,
   "id": "228e9b55-1b59-4a64-aade-25e2d7832878",
   "metadata": {},
   "outputs": [],
   "source": [
    "with open('/Users/jiahang/Documents/dagma/src/dagma/simulated_data/v47/v60_360_normX_sym1_option_9_OLS/W/W_1_1_0.pkl', 'rb') as f:\n",
    "    W = pickle.load(f)['W_est']"
   ]
  },
  {
   "cell_type": "code",
   "execution_count": 6,
   "id": "e365c1b7-923b-4b4e-9cf6-1bd87cf3979a",
   "metadata": {},
   "outputs": [
    {
     "data": {
      "text/plain": [
       "array([[ 0.00000000e+00, -1.35622454e-05, -3.41128027e-07, ...,\n",
       "        -1.80495049e-05,  3.51426329e-02, -1.66970414e-02],\n",
       "       [ 1.00600001e-05,  0.00000000e+00,  1.21200418e-05, ...,\n",
       "        -2.50240792e-04,  6.81110485e-03,  7.24590821e-01],\n",
       "       [-4.20964334e-04,  3.76457424e-04,  0.00000000e+00, ...,\n",
       "        -8.45922996e-04, -6.38257568e-04,  4.11358229e-06],\n",
       "       ...,\n",
       "       [ 9.47650669e-03,  7.84488839e-06,  3.15965088e-05, ...,\n",
       "         0.00000000e+00,  5.33658874e-07, -6.78039523e-06],\n",
       "       [ 9.09860662e-06,  3.44793557e-07,  3.27648081e-03, ...,\n",
       "        -2.71816075e-07,  0.00000000e+00, -1.69449778e-02],\n",
       "       [-1.24830928e-03,  7.58493968e-05, -1.57599109e-05, ...,\n",
       "         6.52338385e-06, -4.28511089e-03,  0.00000000e+00]])"
      ]
     },
     "execution_count": 6,
     "metadata": {},
     "output_type": "execute_result"
    }
   ],
   "source": [
    "W"
   ]
  },
  {
   "cell_type": "code",
   "execution_count": 7,
   "id": "56e9185c-1be1-44aa-912d-a00b61bc3d27",
   "metadata": {},
   "outputs": [
    {
     "data": {
      "text/plain": [
       "(120, 120)"
      ]
     },
     "execution_count": 7,
     "metadata": {},
     "output_type": "execute_result"
    }
   ],
   "source": [
    "W.shape"
   ]
  },
  {
   "cell_type": "code",
   "execution_count": 8,
   "id": "7f4c75d4-b9fb-4606-b7ec-765de386a80d",
   "metadata": {},
   "outputs": [
    {
     "data": {
      "text/plain": [
       "1.1800465961691802"
      ]
     },
     "execution_count": 8,
     "metadata": {},
     "output_type": "execute_result"
    }
   ],
   "source": [
    "W.max()"
   ]
  },
  {
   "cell_type": "code",
   "execution_count": 9,
   "id": "be999e52-512f-407b-8ca4-6245552d05e6",
   "metadata": {},
   "outputs": [
    {
     "data": {
      "text/plain": [
       "-1.8736932294303263"
      ]
     },
     "execution_count": 9,
     "metadata": {},
     "output_type": "execute_result"
    }
   ],
   "source": [
    "W.min()"
   ]
  },
  {
   "cell_type": "code",
   "execution_count": 14,
   "id": "36289ed0-fcf5-4a29-a338-19e2699a7277",
   "metadata": {},
   "outputs": [],
   "source": [
    "with open('/Users/jiahang/Documents/dagma/src/dagma/simulated_data/v47/v60_360_normX_sym1_option_9_OLS_temp/W/W_1_1_0.pkl', 'rb') as f:\n",
    "    W_temp = pickle.load(f)['W_est']"
   ]
  },
  {
   "cell_type": "code",
   "execution_count": 15,
   "id": "ac30f9a7-5aeb-4c67-bc58-d955ad3e15b5",
   "metadata": {},
   "outputs": [
    {
     "data": {
      "text/plain": [
       "array([[ 0.00000000e+00,  8.15964888e-06, -7.12419511e-03, ...,\n",
       "         1.78860541e-04, -2.99713751e-05, -4.48409665e-02],\n",
       "       [ 1.11998119e-03,  0.00000000e+00,  1.11640268e-06, ...,\n",
       "        -1.96162636e-05,  2.27557653e-05,  7.97717558e-01],\n",
       "       [-4.09026666e-04,  6.37327790e-04,  0.00000000e+00, ...,\n",
       "         3.36069008e-04,  5.90168630e-04,  5.84709917e-03],\n",
       "       ...,\n",
       "       [ 1.36810227e-02,  1.24719315e-03,  1.29950513e-02, ...,\n",
       "         0.00000000e+00, -1.17979682e-04, -2.42011878e-07],\n",
       "       [-8.94866881e-05, -5.11141554e-04,  1.64248832e-02, ...,\n",
       "        -3.36648451e-04,  0.00000000e+00, -4.34526848e-03],\n",
       "       [-1.63074882e-03,  7.69171725e-05,  6.21447214e-03, ...,\n",
       "         8.19111210e-05, -2.78844399e-03,  0.00000000e+00]])"
      ]
     },
     "execution_count": 15,
     "metadata": {},
     "output_type": "execute_result"
    }
   ],
   "source": [
    "W_temp"
   ]
  },
  {
   "cell_type": "code",
   "execution_count": 16,
   "id": "39e02e9c-90e1-4b97-9fd8-f94b81c4ef69",
   "metadata": {},
   "outputs": [
    {
     "data": {
      "text/plain": [
       "(120, 120)"
      ]
     },
     "execution_count": 16,
     "metadata": {},
     "output_type": "execute_result"
    }
   ],
   "source": [
    "W_temp.shape"
   ]
  },
  {
   "cell_type": "code",
   "execution_count": 17,
   "id": "7185dd8f-ad8d-4980-ab2c-b0273ef2f730",
   "metadata": {},
   "outputs": [
    {
     "data": {
      "text/plain": [
       "1.0168943812455158"
      ]
     },
     "execution_count": 17,
     "metadata": {},
     "output_type": "execute_result"
    }
   ],
   "source": [
    "W_temp.max()"
   ]
  },
  {
   "cell_type": "code",
   "execution_count": 18,
   "id": "464dd874-0582-4315-bab7-999c207977e9",
   "metadata": {},
   "outputs": [
    {
     "data": {
      "text/plain": [
       "-0.9956507971241529"
      ]
     },
     "execution_count": 18,
     "metadata": {},
     "output_type": "execute_result"
    }
   ],
   "source": [
    "W_temp.min()"
   ]
  },
  {
   "cell_type": "code",
   "execution_count": 20,
   "id": "39009436-c12f-459a-b9f4-c8ec80deafb6",
   "metadata": {},
   "outputs": [
    {
     "data": {
      "text/plain": [
       "<Axes: >"
      ]
     },
     "execution_count": 20,
     "metadata": {},
     "output_type": "execute_result"
    },
    {
     "data": {
      "image/png": "[encoded data removed]",
      "text/plain": [
       "<Figure size 640x480 with 1 Axes>"
      ]
     },
     "metadata": {},
     "output_type": "display_data"
    }
   ],
   "source": [
    "sns.stripplot(W.flatten())"
   ]
  },
  {
   "cell_type": "code",
   "execution_count": 21,
   "id": "af717c23-27e8-41bd-8e6e-612df9cfa9c0",
   "metadata": {},
   "outputs": [
    {
     "data": {
      "text/plain": [
       "<Axes: >"
      ]
     },
     "execution_count": 21,
     "metadata": {},
     "output_type": "execute_result"
    },
    {
     "data": {
      "image/png": "[encoded data removed]",
      "text/plain": [
       "<Figure size 640x480 with 1 Axes>"
      ]
     },
     "metadata": {},
     "output_type": "display_data"
    }
   ],
   "source": [
    "sns.stripplot(W_temp.flatten())"
   ]
  },
  {
   "cell_type": "code",
   "execution_count": 22,
   "id": "67959c45-1a58-4c77-b9a5-ca74d8f1a627",
   "metadata": {},
   "outputs": [
    {
     "name": "stdout",
     "output_type": "stream",
     "text": [
      "hi\n"
     ]
    }
   ],
   "source": [
    "i = 1\n",
    "if i in [1, 2]:\n",
    "    print('hi')\n",
    "elif i == 1:\n",
    "    print('bye')"
   ]
  },
  {
   "cell_type": "code",
   "execution_count": null,
   "id": "24009535-aa45-4bf7-a73f-6968ed407bab",
   "metadata": {},
   "outputs": [],
   "source": []
  }
 ],
 "metadata": {
  "kernelspec": {
   "display_name": "Python 3 (ipykernel)",
   "language": "python",
   "name": "python3"
  },
  "language_info": {
   "codemirror_mode": {
    "name": "ipython",
    "version": 3
   },
   "file_extension": ".py",
   "mimetype": "text/x-python",
   "name": "python",
   "nbconvert_exporter": "python",
   "pygments_lexer": "ipython3",
   "version": "3.9.19"
  }
 },
 "nbformat": 4,
 "nbformat_minor": 5
}
