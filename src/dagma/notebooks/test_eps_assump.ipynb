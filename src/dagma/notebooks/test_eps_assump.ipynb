{
 "cells": [
  {
   "cell_type": "code",
   "execution_count": 109,
   "id": "2e71ad94-4056-4ace-945a-8bcb3bad1f3c",
   "metadata": {},
   "outputs": [],
   "source": [
    "import os\n",
    "import pickle\n",
    "import numpy as np\n",
    "import seaborn as sns\n",
    "import scipy\n",
    "root_path = '/Users/jiahang/Documents/dagma/src/dagma/'\n",
    "\n",
    "with open(os.path.join(root_path, 'simulated_data/v11/v40/W/W_2_0.pkl'), 'rb') as f:\n",
    "    W = pickle.load(f)\n",
    "with open(os.path.join(root_path, 'simulated_data/v11/v40/X/X_1.pkl'), 'rb') as f:\n",
    "    X = pickle.load(f)\n",
    "n_nodes = 40\n",
    "W_true = X['W_true']\n",
    "B_true = (W_true != 0)\n",
    "W_est = W['W_est']\n",
    "\n",
    "W_ori_est, W_kno_est = W_est[:n_nodes, :n_nodes], W_est[n_nodes:, :n_nodes]\n",
    "Z = np.abs(W_ori_est) - np.abs(W_kno_est)\n",
    "\n",
    "eps = 1e-1\n",
    "Z0 = (np.abs(W_est[:n_nodes, :n_nodes][~B_true]) - np.abs(W_est[n_nodes:, :n_nodes][~B_true]))\n",
    "eps_mask = (Z0 < 0. + eps) & (Z0 > 0.)\n",
    "n_eps_mask = (Z0 > 0. + eps)"
   ]
  },
  {
   "cell_type": "code",
   "execution_count": 112,
   "id": "0dabd5b0-6b6c-491a-ba7b-67a9eee2ad8c",
   "metadata": {},
   "outputs": [],
   "source": [
    "def sigmoid(alpha, x):\n",
    "    x = x - x.mean()\n",
    "    return scipy.special.expit(alpha * x)"
   ]
  },
  {
   "cell_type": "code",
   "execution_count": 110,
   "id": "a646727b-1883-437d-abc8-618c2faadd4f",
   "metadata": {},
   "outputs": [
    {
     "data": {
      "text/plain": [
       "13193.424959749811"
      ]
     },
     "execution_count": 110,
     "metadata": {},
     "output_type": "execute_result"
    }
   ],
   "source": [
    "(np.abs(W_est @ W_est) / (np.abs(W_est) + 1e-8))[:n_nodes, :n_nodes][~B_true][eps_mask].mean()"
   ]
  },
  {
   "cell_type": "code",
   "execution_count": 111,
   "id": "d1dcf4dc-80ef-47bd-9505-5f2dfd19c37d",
   "metadata": {},
   "outputs": [
    {
     "data": {
      "text/plain": [
       "12.472773898717172"
      ]
     },
     "execution_count": 111,
     "metadata": {},
     "output_type": "execute_result"
    }
   ],
   "source": [
    "(np.abs(W_est @ W_est) / (np.abs(W_est) + 1e-8))[:n_nodes, :n_nodes][~B_true][n_eps_mask].mean()"
   ]
  },
  {
   "cell_type": "code",
   "execution_count": 119,
   "id": "da123226-a972-4089-86db-d63be41983b3",
   "metadata": {},
   "outputs": [
    {
     "data": {
      "text/plain": [
       "<Axes: >"
      ]
     },
     "execution_count": 119,
     "metadata": {},
     "output_type": "execute_result"
    },
    {
     "data": {
      "image/png": "[encoded data removed]",
      "text/plain": [
       "<Figure size 640x480 with 1 Axes>"
      ]
     },
     "metadata": {},
     "output_type": "display_data"
    }
   ],
   "source": [
    "sns.stripplot((np.abs(W_est @ W_est) / (np.abs(W_est) + 1e-8))[:n_nodes, :n_nodes][~B_true][eps_mask].flatten())"
   ]
  },
  {
   "cell_type": "code",
   "execution_count": 114,
   "id": "b286bc98-58f5-485c-96f7-49b99c396e79",
   "metadata": {
    "scrolled": true
   },
   "outputs": [
    {
     "data": {
      "text/plain": [
       "(975,)"
      ]
     },
     "execution_count": 114,
     "metadata": {},
     "output_type": "execute_result"
    }
   ],
   "source": [
    "(np.abs(W_est @ W_est) / (np.abs(W_est) + 1e-8))[:n_nodes, :n_nodes][~B_true][eps_mask]"
   ]
  },
  {
   "cell_type": "code",
   "execution_count": 163,
   "id": "1597b92e-a178-4098-be51-41d0a64e5c12",
   "metadata": {
    "scrolled": true
   },
   "outputs": [],
   "source": [
    "a = (np.abs(W_est @ W_est) / (np.abs(W_est) + 1e-8))[:n_nodes, :n_nodes]\n",
    "a[a > 1e2] = 0.\n",
    "res = sigmoid(10, a)"
   ]
  },
  {
   "cell_type": "code",
   "execution_count": 164,
   "id": "02e254c1-f97d-4081-9eed-be80996addcf",
   "metadata": {},
   "outputs": [
    {
     "data": {
      "text/plain": [
       "array([8.22663399e-18, 6.28487115e-18, 1.04143362e-17, 1.09066264e-09,\n",
       "       6.69160912e-16, 9.76517782e-18, 7.10345981e-18, 6.57986414e-18,\n",
       "       6.64637878e-18, 7.89263143e-18, 5.21091424e-16, 9.92547148e-10,\n",
       "       2.96298414e-17, 3.88601851e-12, 8.18022966e-09, 6.57244699e-18,\n",
       "       8.85644606e-18, 6.55149564e-18, 8.17768276e-18, 2.05913672e-17,\n",
       "       1.66852468e-17, 3.25681608e-12, 6.07347741e-18, 6.93699966e-18,\n",
       "       2.22996457e-12, 2.81620432e-10, 6.57352601e-18, 6.72809343e-18,\n",
       "       1.67389589e-14, 6.71735983e-18, 6.87933623e-17, 6.66005732e-18,\n",
       "       6.08396479e-18, 1.00000000e+00, 1.22417335e-16, 1.73977652e-17,\n",
       "       1.20093911e-12, 6.59235429e-18, 8.17112669e-18, 9.57246530e-18,\n",
       "       2.71897939e-10, 6.98958592e-18, 6.37809066e-18, 6.14179668e-18,\n",
       "       1.42965208e-17, 6.34274075e-18, 7.94570148e-12, 1.03485461e-12,\n",
       "       1.48667070e-07, 1.04909394e-14, 7.34983164e-16, 6.68679910e-18,\n",
       "       9.99999993e-01, 1.00000000e+00, 6.76013059e-18, 6.25298000e-18,\n",
       "       6.23694158e-18, 8.45439957e-18, 7.19504940e-18, 1.74474589e-09,\n",
       "       1.05454310e-17, 5.69953006e-15, 7.26399473e-18, 7.23510768e-18,\n",
       "       1.59626916e-14, 6.53209449e-02, 9.26773125e-18, 1.00000000e+00,\n",
       "       6.34157173e-18, 8.29640998e-18, 6.39949597e-18, 1.07874844e-15,\n",
       "       6.63867849e-18, 6.44536143e-18, 6.64247809e-18, 6.17859682e-18,\n",
       "       6.19641285e-18, 6.40656694e-18, 1.05684951e-17, 1.13887485e-17,\n",
       "       1.35812983e-17, 6.66988669e-18, 7.61370833e-18, 6.99815769e-18,\n",
       "       6.34307389e-18, 6.08539272e-18, 2.05007022e-15, 3.45587685e-13,\n",
       "       2.61203414e-17, 7.26932283e-17, 8.46654686e-18, 3.79396234e-10,\n",
       "       1.30489654e-06, 6.85786845e-18, 2.31397850e-14, 8.32452087e-18,\n",
       "       6.62799488e-17, 1.26359669e-12, 6.11466682e-18, 7.08244089e-18,\n",
       "       7.06034809e-18, 6.32834019e-18, 1.52427964e-15, 7.38078425e-18,\n",
       "       6.59773146e-18, 7.30136461e-18, 2.24800236e-15, 6.35840008e-18,\n",
       "       6.08678160e-18, 8.31150628e-10, 8.64544258e-18, 5.81994205e-09,\n",
       "       4.33785581e-14, 6.60747805e-18, 6.21091212e-18, 6.40071449e-18,\n",
       "       3.46633557e-13, 2.01979082e-09, 6.18822559e-18, 7.88256014e-11,\n",
       "       1.05454321e-12, 6.20331179e-18, 6.96122193e-18, 7.90617800e-18,\n",
       "       6.48830313e-18, 6.32924571e-18, 4.08633959e-17, 1.19440180e-17,\n",
       "       8.42990793e-07, 6.06931818e-18, 1.26308181e-17, 6.93489654e-18,\n",
       "       6.53954781e-18, 9.38076726e-01, 7.48179446e-18, 2.62020187e-17,\n",
       "       9.99999967e-01, 1.62966028e-17, 1.89639857e-17, 6.11357775e-18,\n",
       "       8.35218469e-16, 7.38746531e-18, 1.16915436e-14, 6.58117776e-18,\n",
       "       6.20900721e-18, 7.25467258e-18, 6.28895927e-18, 3.23880964e-15,\n",
       "       8.62657696e-01, 2.14095500e-17, 8.43845748e-18, 1.20241274e-17,\n",
       "       7.90921258e-18, 6.78691745e-18, 8.23005156e-18, 1.11210169e-17,\n",
       "       5.38717344e-09, 6.18010633e-18, 1.34003298e-17, 6.64229263e-18])"
      ]
     },
     "execution_count": 164,
     "metadata": {},
     "output_type": "execute_result"
    }
   ],
   "source": [
    "res[B_true]"
   ]
  },
  {
   "cell_type": "code",
   "execution_count": 170,
   "id": "5f45c213-4e83-40b3-93c2-1e38de31734b",
   "metadata": {},
   "outputs": [
    {
     "data": {
      "text/plain": [
       "0.23472222222222222"
      ]
     },
     "execution_count": 170,
     "metadata": {},
     "output_type": "execute_result"
    }
   ],
   "source": [
    "(res[~B_true] > 1e-6).sum() / res[~B_true].size"
   ]
  },
  {
   "cell_type": "code",
   "execution_count": 169,
   "id": "848f5c33-e26e-4bc4-828d-fba149bf6335",
   "metadata": {},
   "outputs": [
    {
     "data": {
      "text/plain": [
       "0.05625"
      ]
     },
     "execution_count": 169,
     "metadata": {},
     "output_type": "execute_result"
    }
   ],
   "source": [
    "(res[B_true] > 1e-6).sum() / res[B_true].size"
   ]
  },
  {
   "cell_type": "code",
   "execution_count": 171,
   "id": "2c2b25e0-ee11-4670-971d-7a375dff6d7f",
   "metadata": {},
   "outputs": [],
   "source": [
    "a = (np.abs(W_est) / (np.abs(W_est @ W_est) + 1e-8))[:n_nodes, :n_nodes]\n",
    "a[a > 1e2] = 0.\n",
    "res = sigmoid(10, a)"
   ]
  },
  {
   "cell_type": "code",
   "execution_count": 172,
   "id": "b003c8d2-3731-4013-9406-1c2f2470f390",
   "metadata": {},
   "outputs": [
    {
     "data": {
      "text/plain": [
       "0.16666666666666666"
      ]
     },
     "execution_count": 172,
     "metadata": {},
     "output_type": "execute_result"
    }
   ],
   "source": [
    "(res[~B_true] > 1e-6).sum() / res[~B_true].size"
   ]
  },
  {
   "cell_type": "code",
   "execution_count": 173,
   "id": "cbc56f49-acc4-48c3-9469-c5fe6e49cdb5",
   "metadata": {},
   "outputs": [
    {
     "data": {
      "text/plain": [
       "0.4"
      ]
     },
     "execution_count": 173,
     "metadata": {},
     "output_type": "execute_result"
    }
   ],
   "source": [
    "(res[B_true] > 1e-6).sum() / res[B_true].size"
   ]
  },
  {
   "cell_type": "markdown",
   "id": "e1e41836-eaee-480a-bafb-588a2f3ce48a",
   "metadata": {
    "jp-MarkdownHeadingCollapsed": true
   },
   "source": [
    "# MIsc"
   ]
  },
  {
   "cell_type": "code",
   "execution_count": 45,
   "id": "95d93987-4dd8-4335-9aa5-1ce456875db0",
   "metadata": {},
   "outputs": [
    {
     "data": {
      "text/plain": [
       "2.4766188595882683"
      ]
     },
     "execution_count": 45,
     "metadata": {},
     "output_type": "execute_result"
    }
   ],
   "source": [
    "(np.abs(W_est) / np.abs(np.linalg.matrix_power(W_est, 2)))[:n_nodes, :n_nodes][~B_true][eps_mask].mean()"
   ]
  },
  {
   "cell_type": "code",
   "execution_count": 46,
   "id": "8984b489-113f-4e7b-82df-fb3140681c22",
   "metadata": {},
   "outputs": [
    {
     "data": {
      "text/plain": [
       "14.001971405405875"
      ]
     },
     "execution_count": 46,
     "metadata": {},
     "output_type": "execute_result"
    }
   ],
   "source": [
    "(np.abs(W_est) / np.abs(np.linalg.matrix_power(W_est, 2)))[:n_nodes, :n_nodes][~B_true][eps_mask].std()"
   ]
  },
  {
   "cell_type": "code",
   "execution_count": 47,
   "id": "b9cef975-723f-4de2-8c3b-4df28eba0c02",
   "metadata": {},
   "outputs": [
    {
     "data": {
      "text/plain": [
       "15.37745616839613"
      ]
     },
     "execution_count": 47,
     "metadata": {},
     "output_type": "execute_result"
    }
   ],
   "source": [
    "(np.abs(W_est) / np.abs(np.linalg.matrix_power(W_est, 2)))[:n_nodes, :n_nodes][~B_true][~eps_mask].mean()"
   ]
  },
  {
   "cell_type": "code",
   "execution_count": 48,
   "id": "0156ede0-14f1-4440-990e-764f307339b6",
   "metadata": {},
   "outputs": [
    {
     "data": {
      "text/plain": [
       "182.447570303187"
      ]
     },
     "execution_count": 48,
     "metadata": {},
     "output_type": "execute_result"
    }
   ],
   "source": [
    "(np.abs(W_est) / np.abs(np.linalg.matrix_power(W_est, 2)))[:n_nodes, :n_nodes][~B_true][~eps_mask].std()"
   ]
  },
  {
   "cell_type": "code",
   "execution_count": 54,
   "id": "0f20f287-ecf3-4e7c-b7c6-be38911255b4",
   "metadata": {},
   "outputs": [
    {
     "data": {
      "text/plain": [
       "18.603409782654595"
      ]
     },
     "execution_count": 54,
     "metadata": {},
     "output_type": "execute_result"
    }
   ],
   "source": [
    "(np.abs(W_est) / np.abs(np.linalg.matrix_power(W_est, 2)))[:n_nodes, :n_nodes][~B_true][n_eps_mask].mean()"
   ]
  },
  {
   "cell_type": "code",
   "execution_count": 55,
   "id": "a6aefb65-9a0e-4090-9821-38593aa51857",
   "metadata": {},
   "outputs": [
    {
     "data": {
      "text/plain": [
       "107.90004319562023"
      ]
     },
     "execution_count": 55,
     "metadata": {},
     "output_type": "execute_result"
    }
   ],
   "source": [
    "(np.abs(W_est) / np.abs(np.linalg.matrix_power(W_est, 2)))[:n_nodes, :n_nodes][~B_true][n_eps_mask].std()"
   ]
  },
  {
   "cell_type": "code",
   "execution_count": 63,
   "id": "a8060e22-20fb-48d8-8636-cffad80e5435",
   "metadata": {},
   "outputs": [
    {
     "data": {
      "text/plain": [
       "226.17865538155257"
      ]
     },
     "execution_count": 63,
     "metadata": {},
     "output_type": "execute_result"
    }
   ],
   "source": [
    "(np.abs(W_est) / np.abs(np.linalg.matrix_power(W_est, 2)))[:n_nodes, :n_nodes][B_true].mean()"
   ]
  },
  {
   "cell_type": "code",
   "execution_count": 65,
   "id": "49f1abff-a682-41e9-8fb2-517a47d8b8af",
   "metadata": {},
   "outputs": [
    {
     "data": {
      "text/plain": [
       "0.6533408937531717"
      ]
     },
     "execution_count": 65,
     "metadata": {},
     "output_type": "execute_result"
    }
   ],
   "source": [
    "(np.abs(np.linalg.matrix_power(W_est, 2)) / (np.abs(W_est) + 1e-8))[:n_nodes, :n_nodes][B_true].mean()"
   ]
  },
  {
   "cell_type": "code",
   "execution_count": 66,
   "id": "46ca63f7-632c-4fda-b976-12350936ad50",
   "metadata": {},
   "outputs": [
    {
     "data": {
      "text/plain": [
       "53867.357910511935"
      ]
     },
     "execution_count": 66,
     "metadata": {},
     "output_type": "execute_result"
    }
   ],
   "source": [
    "(np.abs(np.linalg.matrix_power(W_est, 2)) / (np.abs(W_est) + 1e-8))[:n_nodes, :n_nodes][~B_true].mean()"
   ]
  },
  {
   "cell_type": "code",
   "execution_count": null,
   "id": "7f4d9f87-9d35-425f-a580-929d9b836043",
   "metadata": {},
   "outputs": [],
   "source": []
  }
 ],
 "metadata": {
  "kernelspec": {
   "display_name": "Python 3 (ipykernel)",
   "language": "python",
   "name": "python3"
  },
  "language_info": {
   "codemirror_mode": {
    "name": "ipython",
    "version": 3
   },
   "file_extension": ".py",
   "mimetype": "text/x-python",
   "name": "python",
   "nbconvert_exporter": "python",
   "pygments_lexer": "ipython3",
   "version": "3.9.19"
  }
 },
 "nbformat": 4,
 "nbformat_minor": 5
}
