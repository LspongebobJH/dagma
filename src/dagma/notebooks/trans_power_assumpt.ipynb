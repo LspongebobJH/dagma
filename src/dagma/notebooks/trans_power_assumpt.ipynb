{
 "cells": [
  {
   "cell_type": "markdown",
   "id": "5ee51525-4a8d-450a-a7ac-750a4ef21b38",
   "metadata": {},
   "source": [
    "# Prelim"
   ]
  },
  {
   "cell_type": "code",
   "execution_count": 218,
   "id": "1ffe7181-ecf5-4cb3-858a-1152a11da800",
   "metadata": {},
   "outputs": [],
   "source": [
    "import re\n",
    "import pandas as pd\n",
    "import os\n",
    "import pickle\n",
    "import seaborn as sns\n",
    "import numpy as np\n",
    "import sys\n",
    "sys.path.append(\"/Users/jiahang/Documents/dagma/src/dagma/\")\n",
    "import utils\n",
    "import matplotlib.pyplot as plt\n",
    "import utils_dagma\n",
    "\n",
    "def load_data(n_nodes, seed, version_path):\n",
    "    root_path=\"/Users/jiahang/Documents/dagma/src/dagma/simulated_data/\"\n",
    "    with open(os.path.join(root_path, f'{version_path}/W/W_{seed}_0.pkl'), 'rb') as f:\n",
    "        W = pickle.load(f)\n",
    "    with open(os.path.join(root_path, f'{version_path}/X/X_1.pkl'), 'rb') as f:\n",
    "        X = pickle.load(f)\n",
    "    W_est = W['W_est']\n",
    "    W = W['W_est'][:, :n_nodes]\n",
    "    Z = np.abs(W[:n_nodes]) - np.abs(W[n_nodes:])\n",
    "    W_true = X['W_true']\n",
    "    B_true = (W_true != 0)\n",
    "    \n",
    "    return B_true, W_est\n",
    "\n",
    "def get_block(data, n_nodes=20, index=11, extract=None):\n",
    "    data_dict = {\n",
    "        11: data[:n_nodes, :n_nodes],\n",
    "        12: data[:n_nodes, n_nodes:],\n",
    "        21: data[n_nodes:, :n_nodes],\n",
    "        22: data[n_nodes:, n_nodes:]\n",
    "    }\n",
    "    \n",
    "    return data_dict[index]\n",
    "\n",
    "def get_Z(data, n_nodes=20, left=11, right=21, extract=None):\n",
    "    left_block = get_block(data, n_nodes, left)\n",
    "    right_block = get_block(data, n_nodes, right)\n",
    "    res = np.abs(left_block) - np.abs(right_block)\n",
    "    \n",
    "    return res"
   ]
  },
  {
   "cell_type": "code",
   "execution_count": 171,
   "id": "234c1204-fbe7-4327-a1a9-1ae0ed20b033",
   "metadata": {},
   "outputs": [],
   "source": [
    "n_nodes = 20\n",
    "B_true, W_est = load_data(n_nodes, 1, \"v34/v20\")"
   ]
  },
  {
   "cell_type": "markdown",
   "id": "7547a9ef-ea41-4743-ba83-eb8e4736a4ab",
   "metadata": {
    "jp-MarkdownHeadingCollapsed": true
   },
   "source": [
    "# Assumption 0.0: |W11|n >(d) |W21|n, that is, Z_11_21 right distributed\n",
    "* true"
   ]
  },
  {
   "cell_type": "code",
   "execution_count": 98,
   "id": "57451065-a574-416b-9fae-00eeae666aeb",
   "metadata": {},
   "outputs": [
    {
     "name": "stdout",
     "output_type": "stream",
     "text": [
      "0.9875\n",
      "0.5375\n"
     ]
    }
   ],
   "source": [
    "Z11_21 = get_Z(W_est, left=11, right=21)\n",
    "print((Z11_21[B_true] > 0).sum() / Z11_21[B_true].size)\n",
    "print((Z11_21[~B_true] > 0).sum() / Z11_21[~B_true].size)"
   ]
  },
  {
   "cell_type": "markdown",
   "id": "84927563-63e7-475e-820b-22d8aa78a936",
   "metadata": {
    "jp-MarkdownHeadingCollapsed": true
   },
   "source": [
    "# Assumption 0.1: for any t, N(Z_11_21_n > t) > N(Z_11_21_n < -t)\n",
    "* true"
   ]
  },
  {
   "cell_type": "code",
   "execution_count": 40,
   "id": "5bcfbb0a-1657-440e-a3fc-13a932661c86",
   "metadata": {},
   "outputs": [
    {
     "name": "stdout",
     "output_type": "stream",
     "text": [
      "0 | 0 | 0 | 0 | 0 | 0 | 0 | 0 | 0 | 0 | 0 | 0 | 0 | 0 | 0 | 0 | 0 | 0 | 0 | 0 | 0 | 0 | 0 | 1 | 1 | 1 | 2 | 2 | 2 | 3 | 3 | 3 | 2 | 2 | 1 | 1 | 1 | 0 | 1 | 1 | 1 | 2 | 2 | 0 | -2 | -2 | -2 | -2 | -1 | 1 | 3 | 5 | 7 | 9 | 11 | 11 | 10 | 12 | 13 | 13 | 11 | 11 | 11 | 9 | 7 | 7 | 7 | 9 | 11 | 11 | 9 | 7 | 7 | 7 | 5 | 5 | 7 | 5 | 3 | 5 | 5 | 5 | 5 | 4 | 4 | 4 | 4 | 4 | 6 | 6 | 6 | 6 | 6 | 4 | 4 | 2 | 2 | 0 | 0 | 0 | 0 | 0 | -2 | -4 | -2 | -2 | 0 | 0 | 0 | 0 | 0 | 0 | 2 | 2 | 2 | 0 | 0 | -2 | 0 | 0 | -2 | -2 | -2 | -2 | -2 | -4 | -2 | 0 | 0 | 2 | 2 | 4 | 4 | 4 | 4 | 2 | 0 | 2 | 4 | 2 | 2 | 2 | 4 | 2 | 4 | 4 | 4 | 6 | 8 | 10 | 11 | 13 | 11 | 11 | 9 | 7 | 8 | 6 | 4 | 6 | 6 | 4 | 6 | 6 | 6 | 6 | 8 | 8 | 10 | 10 | 12 | 14 | 16 | 18 | 18 | 18 | 18 | 20 | 22 | 22 | 24 | 24 | 26 | 26 | 26 | 26 | 26 | 26 | 26 | 26 | 24 | 26 | 24 | 26 | 28 | 26 | 26 | 28 | 28 | 26 | "
     ]
    }
   ],
   "source": [
    "q = 0.95\n",
    "for q in np.arange(1, 0, -5e-3):\n",
    "    t = np.quantile(np.abs(Z11_21), q)\n",
    "    print((Z11_21[~B_true] > t).sum() - (Z11_21[~B_true] < -t).sum(), end=' | ')"
   ]
  },
  {
   "cell_type": "markdown",
   "id": "c1e0120f-f806-478b-9081-4136f24f4f2a",
   "metadata": {
    "jp-MarkdownHeadingCollapsed": true
   },
   "source": [
    "# Assumption 1.0: for those |W11|n > |W21|n, most |W^2_11|n > |W^2_21|n , and so on\n",
    "* true"
   ]
  },
  {
   "cell_type": "code",
   "execution_count": 220,
   "id": "5b83f574-14f5-4514-a1c7-28ba1390b369",
   "metadata": {},
   "outputs": [],
   "source": [
    "res = []"
   ]
  },
  {
   "cell_type": "code",
   "execution_count": 221,
   "id": "a9d43df2-37f5-49b5-b9e3-6c9b67478e72",
   "metadata": {},
   "outputs": [
    {
     "name": "stdout",
     "output_type": "stream",
     "text": [
      "0.8546511627906976\n",
      "0.8023255813953488\n",
      "0.7965116279069767\n",
      "0.7616279069767442\n",
      "0.7441860465116279\n",
      "0.686046511627907\n",
      "0.6686046511627907\n",
      "0.6511627906976745\n"
     ]
    }
   ],
   "source": [
    "W11, W21 = get_block(W_est, index=11), get_block(W_est, index=21)\n",
    "mask = (np.abs(W11) > np.abs(W21)) & (~B_true)\n",
    "\n",
    "_res = []\n",
    "for k in range(2, 10):\n",
    "    W_est_pow = np.linalg.matrix_power(W_est, k)\n",
    "    \n",
    "    W11_pow, W21_pow = get_block(W_est_pow, index=11), get_block(W_est_pow, index=21)\n",
    "    print(\n",
    "        (np.abs(W11_pow)[mask] > np.abs(W21_pow)[mask]).sum() / \\\n",
    "        np.abs(W11_pow)[mask].size\n",
    "    )\n",
    "    _res.append(\n",
    "        (np.abs(W11_pow)[mask] > np.abs(W21_pow)[mask]).sum() / \\\n",
    "        np.abs(W11_pow)[mask].size\n",
    "    )\n",
    "res.append(_res)"
   ]
  },
  {
   "cell_type": "code",
   "execution_count": 222,
   "id": "90560fcf-4800-475b-af07-7ebd4b3e8242",
   "metadata": {},
   "outputs": [
    {
     "name": "stdout",
     "output_type": "stream",
     "text": [
      "0.6081081081081081\n",
      "0.5675675675675675\n",
      "0.6554054054054054\n",
      "0.581081081081081\n",
      "0.6283783783783784\n",
      "0.6148648648648649\n",
      "0.668918918918919\n",
      "0.6216216216216216\n"
     ]
    }
   ],
   "source": [
    "W11, W21 = get_block(W_est, index=11), get_block(W_est, index=21)\n",
    "mask = (np.abs(W11) < np.abs(W21)) & (~B_true)\n",
    "\n",
    "_res = []\n",
    "for k in range(2, 10):\n",
    "    W_est_pow = np.linalg.matrix_power(W_est, k)\n",
    "    \n",
    "    W11_pow, W21_pow = get_block(W_est_pow, index=11), get_block(W_est_pow, index=21)\n",
    "    print(\n",
    "        (np.abs(W11_pow)[mask] > np.abs(W21_pow)[mask]).sum() / \\\n",
    "        np.abs(W11_pow)[mask].size\n",
    "    )\n",
    "    _res.append(\n",
    "        (np.abs(W11_pow)[mask] > np.abs(W21_pow)[mask]).sum() / \\\n",
    "        np.abs(W11_pow)[mask].size\n",
    "    )\n",
    "res.append(_res)"
   ]
  },
  {
   "cell_type": "code",
   "execution_count": 223,
   "id": "5fb4a07d-fb41-443e-9fe2-9eef387f4195",
   "metadata": {},
   "outputs": [
    {
     "name": "stdout",
     "output_type": "stream",
     "text": [
      "0.740625\n",
      "0.69375\n",
      "0.73125\n",
      "0.678125\n",
      "0.690625\n",
      "0.653125\n",
      "0.66875\n",
      "0.6375\n"
     ]
    }
   ],
   "source": [
    "W11, W21 = get_block(W_est, index=11), get_block(W_est, index=21)\n",
    "mask = (~B_true)\n",
    "\n",
    "_res = []\n",
    "for k in range(2, 10):\n",
    "    W_est_pow = np.linalg.matrix_power(W_est, k)\n",
    "    \n",
    "    W11_pow, W21_pow = get_block(W_est_pow, index=11), get_block(W_est_pow, index=21)\n",
    "    print(\n",
    "        (np.abs(W11_pow)[mask] > np.abs(W21_pow)[mask]).sum() / \\\n",
    "        np.abs(W11_pow)[mask].size\n",
    "    )\n",
    "    _res.append(\n",
    "        (np.abs(W11_pow)[mask] > np.abs(W21_pow)[mask]).sum() / \\\n",
    "        np.abs(W11_pow)[mask].size\n",
    "    )\n",
    "res.append(_res)"
   ]
  },
  {
   "cell_type": "code",
   "execution_count": 239,
   "id": "0a668ae2-b31f-445a-b4b8-7144741ba603",
   "metadata": {},
   "outputs": [],
   "source": [
    "data_dict = {\n",
    "    \"|W11|n > |W21|n\": res[0],\n",
    "    \"|W11|n < |W21|n\": res[1],\n",
    "    \"all\": res[2]\n",
    "}\n",
    "data = pd.DataFrame(data_dict)"
   ]
  },
  {
   "cell_type": "code",
   "execution_count": 240,
   "id": "e4ad6076-bf1d-4804-b0c5-e737f756664b",
   "metadata": {},
   "outputs": [
    {
     "data": {
      "text/html": [
       "<div>\n",
       "<style scoped>\n",
       "    .dataframe tbody tr th:only-of-type {\n",
       "        vertical-align: middle;\n",
       "    }\n",
       "\n",
       "    .dataframe tbody tr th {\n",
       "        vertical-align: top;\n",
       "    }\n",
       "\n",
       "    .dataframe thead th {\n",
       "        text-align: right;\n",
       "    }\n",
       "</style>\n",
       "<table border=\"1\" class=\"dataframe\">\n",
       "  <thead>\n",
       "    <tr style=\"text-align: right;\">\n",
       "      <th></th>\n",
       "      <th>|W11|n &gt; |W21|n</th>\n",
       "      <th>|W11|n &lt; |W21|n</th>\n",
       "      <th>all</th>\n",
       "    </tr>\n",
       "  </thead>\n",
       "  <tbody>\n",
       "    <tr>\n",
       "      <th>0</th>\n",
       "      <td>0.854651</td>\n",
       "      <td>0.608108</td>\n",
       "      <td>0.740625</td>\n",
       "    </tr>\n",
       "    <tr>\n",
       "      <th>1</th>\n",
       "      <td>0.802326</td>\n",
       "      <td>0.567568</td>\n",
       "      <td>0.693750</td>\n",
       "    </tr>\n",
       "    <tr>\n",
       "      <th>2</th>\n",
       "      <td>0.796512</td>\n",
       "      <td>0.655405</td>\n",
       "      <td>0.731250</td>\n",
       "    </tr>\n",
       "    <tr>\n",
       "      <th>3</th>\n",
       "      <td>0.761628</td>\n",
       "      <td>0.581081</td>\n",
       "      <td>0.678125</td>\n",
       "    </tr>\n",
       "    <tr>\n",
       "      <th>4</th>\n",
       "      <td>0.744186</td>\n",
       "      <td>0.628378</td>\n",
       "      <td>0.690625</td>\n",
       "    </tr>\n",
       "    <tr>\n",
       "      <th>5</th>\n",
       "      <td>0.686047</td>\n",
       "      <td>0.614865</td>\n",
       "      <td>0.653125</td>\n",
       "    </tr>\n",
       "    <tr>\n",
       "      <th>6</th>\n",
       "      <td>0.668605</td>\n",
       "      <td>0.668919</td>\n",
       "      <td>0.668750</td>\n",
       "    </tr>\n",
       "    <tr>\n",
       "      <th>7</th>\n",
       "      <td>0.651163</td>\n",
       "      <td>0.621622</td>\n",
       "      <td>0.637500</td>\n",
       "    </tr>\n",
       "  </tbody>\n",
       "</table>\n",
       "</div>"
      ],
      "text/plain": [
       "   |W11|n > |W21|n  |W11|n < |W21|n       all\n",
       "0         0.854651         0.608108  0.740625\n",
       "1         0.802326         0.567568  0.693750\n",
       "2         0.796512         0.655405  0.731250\n",
       "3         0.761628         0.581081  0.678125\n",
       "4         0.744186         0.628378  0.690625\n",
       "5         0.686047         0.614865  0.653125\n",
       "6         0.668605         0.668919  0.668750\n",
       "7         0.651163         0.621622  0.637500"
      ]
     },
     "execution_count": 240,
     "metadata": {},
     "output_type": "execute_result"
    }
   ],
   "source": [
    "data"
   ]
  },
  {
   "cell_type": "code",
   "execution_count": 242,
   "id": "1c9bfa52-489b-48c0-b849-8584013ab717",
   "metadata": {},
   "outputs": [
    {
     "data": {
      "text/plain": [
       "Text(0.5, 1.0, 'proportion of |W^2|(11, n) > |W^2|(21, n)')"
      ]
     },
     "execution_count": 242,
     "metadata": {},
     "output_type": "execute_result"
    },
    {
     "data": {
      "image/png": "[encoded data removed]",
      "text/plain": [
       "<Figure size 640x480 with 1 Axes>"
      ]
     },
     "metadata": {},
     "output_type": "display_data"
    }
   ],
   "source": [
    "fig, ax = plt.subplots(1, 1)\n",
    "sns.lineplot(data, ax=ax)\n",
    "ax.set_title(\"proportion of |W^2|(11, n) > |W^2|(21, n)\")"
   ]
  },
  {
   "cell_type": "markdown",
   "id": "4280cd22-956c-4ce2-b182-99cc84e210df",
   "metadata": {
    "jp-MarkdownHeadingCollapsed": true
   },
   "source": [
    "# Assumption 1.1: for those |W^k_11|n > |W^k_21|n, most |W11|n > |W21|n\n",
    "* true, but not as strong as 1.0"
   ]
  },
  {
   "cell_type": "code",
   "execution_count": 251,
   "id": "39537928-973c-4a65-b73d-75203cf54eea",
   "metadata": {},
   "outputs": [],
   "source": [
    "res = []"
   ]
  },
  {
   "cell_type": "code",
   "execution_count": 252,
   "id": "9f38ab2d-359f-4377-9a7d-a8d49945a7a6",
   "metadata": {},
   "outputs": [
    {
     "name": "stdout",
     "output_type": "stream",
     "text": [
      "0.620253164556962\n",
      "0.6216216216216216\n",
      "0.5854700854700855\n",
      "0.6036866359447005\n",
      "0.579185520361991\n",
      "0.5645933014354066\n",
      "0.5373831775700935\n",
      "0.5490196078431373\n"
     ]
    }
   ],
   "source": [
    "_res = []\n",
    "for k in range(2, 10):\n",
    "    W_est_pow = np.linalg.matrix_power(W_est, k)\n",
    "    W11_pow, W21_pow = get_block(W_est_pow, index=11), get_block(W_est_pow, index=21)\n",
    "    mask = (np.abs(W11_pow) > np.abs(W21_pow)) & (~B_true)\n",
    "\n",
    "    W11, W21 = get_block(W_est, index=11), get_block(W_est, index=21)\n",
    "    print(\n",
    "        (np.abs(W11)[mask] > np.abs(W21)[mask]).sum() / \\\n",
    "        np.abs(W11)[mask].size\n",
    "    )\n",
    "    _res.append(\n",
    "        (np.abs(W11)[mask] > np.abs(W21)[mask]).sum() / \\\n",
    "        np.abs(W11)[mask].size\n",
    "    )\n",
    "res.append(_res)"
   ]
  },
  {
   "cell_type": "code",
   "execution_count": 253,
   "id": "89c76be4-db54-40e6-8e46-5a4752640a20",
   "metadata": {},
   "outputs": [
    {
     "name": "stdout",
     "output_type": "stream",
     "text": [
      "0.30120481927710846\n",
      "0.3469387755102041\n",
      "0.4069767441860465\n",
      "0.39805825242718446\n",
      "0.4444444444444444\n",
      "0.4864864864864865\n",
      "0.5377358490566038\n",
      "0.5172413793103449\n"
     ]
    }
   ],
   "source": [
    "_res = []\n",
    "for k in range(2, 10):\n",
    "    W_est_pow = np.linalg.matrix_power(W_est, k)\n",
    "    W11_pow, W21_pow = get_block(W_est_pow, index=11), get_block(W_est_pow, index=21)\n",
    "    mask = (np.abs(W11_pow) < np.abs(W21_pow)) & (~B_true)\n",
    "\n",
    "    W11, W21 = get_block(W_est, index=11), get_block(W_est, index=21)\n",
    "    print(\n",
    "        (np.abs(W11)[mask] > np.abs(W21)[mask]).sum() / \\\n",
    "        np.abs(W11)[mask].size\n",
    "    )\n",
    "    _res.append(\n",
    "        (np.abs(W11)[mask] > np.abs(W21)[mask]).sum() / \\\n",
    "        np.abs(W11)[mask].size\n",
    "    )\n",
    "res.append(_res)"
   ]
  },
  {
   "cell_type": "code",
   "execution_count": 254,
   "id": "bbd4c658-7000-4b72-a22d-6a2948f945b7",
   "metadata": {},
   "outputs": [],
   "source": [
    "data_dict = {\n",
    "    \"|W^2|(11, n) > |W^2|(21, n)\": res[0],\n",
    "    \"|W^2|(11, n) < |W^2|(21, n)\": res[1],\n",
    "}\n",
    "data = pd.DataFrame(data_dict)"
   ]
  },
  {
   "cell_type": "code",
   "execution_count": 255,
   "id": "39359b0e-11af-45fd-9d6a-1c3335600710",
   "metadata": {},
   "outputs": [
    {
     "data": {
      "text/plain": [
       "Text(0.5, 1.0, 'proportion of |W11|n > |W21|')"
      ]
     },
     "execution_count": 255,
     "metadata": {},
     "output_type": "execute_result"
    },
    {
     "data": {
      "image/png": "[encoded data removed]",
      "text/plain": [
       "<Figure size 640x480 with 1 Axes>"
      ]
     },
     "metadata": {},
     "output_type": "display_data"
    }
   ],
   "source": [
    "fig, ax = plt.subplots(1, 1)\n",
    "sns.lineplot(data, ax=ax)\n",
    "ax.set_title(\"proportion of |W11|n > |W21|\")"
   ]
  },
  {
   "cell_type": "markdown",
   "id": "c74fa314-c0ba-478f-9b78-898f4b9af95f",
   "metadata": {
    "jp-MarkdownHeadingCollapsed": true
   },
   "source": [
    "# Try: Z of |(|W11|n - |W11^2|n)| - |(|W21|n - |W21^2|n)|\n",
    "* works!"
   ]
  },
  {
   "cell_type": "code",
   "execution_count": 111,
   "id": "69e66b43-0d49-430c-807e-8bfd2ab65638",
   "metadata": {},
   "outputs": [
    {
     "name": "stdout",
     "output_type": "stream",
     "text": [
      "0.95\n",
      "0.496875\n"
     ]
    }
   ],
   "source": [
    "k = 2\n",
    "W11, W21 = get_block(W_est, index=11), get_block(W_est, index=21)\n",
    "W_est_pow = 1e-2 * np.linalg.matrix_power(W_est, k)\n",
    "# W_est_pow = np.linalg.matrix_power(np.abs(W_est), k)\n",
    "W11_pow, W21_pow = get_block(W_est_pow, index=11), get_block(W_est_pow, index=21)\n",
    "\n",
    "W11_1 = np.abs(W11) - np.abs(W11_pow)\n",
    "# W11_1 = W11 - W11_pow\n",
    "W21_1 = np.abs(W21) - np.abs(W21_pow)\n",
    "# W21_1 = W21 - W21_pow\n",
    "# Z = np.abs(W11_1) - np.abs(W21_1)\n",
    "Z = W11_1 - W21_1\n",
    "print((Z[B_true] > 0).sum() / Z[B_true].size)\n",
    "print((Z[~B_true] > 0).sum() / Z[~B_true].size)"
   ]
  },
  {
   "cell_type": "markdown",
   "id": "7e185e4a-13a4-4a41-9d97-d4c9aa407e7e",
   "metadata": {
    "jp-MarkdownHeadingCollapsed": true
   },
   "source": [
    "# Systematic Try\n",
    "* works!"
   ]
  },
  {
   "cell_type": "code",
   "execution_count": 158,
   "id": "11c7e811-1596-4eb1-a7ab-5304abe75b48",
   "metadata": {},
   "outputs": [],
   "source": [
    "def test(n_nodes, seed, version=\"v34/v20\"):\n",
    "    B_true, W_est = load_data(n_nodes, seed, version)\n",
    "\n",
    "    k = 2\n",
    "    W11, W21 = get_block(W_est, n_nodes=n_nodes, index=11), get_block(W_est, n_nodes=n_nodes, index=21)\n",
    "    W_est_pow = 1e-2 * np.linalg.matrix_power(W_est, k)\n",
    "    # W_est_pow = np.linalg.matrix_power(np.abs(W_est), k)\n",
    "    W11_pow, W21_pow = get_block(W_est_pow, n_nodes=n_nodes, index=11), get_block(W_est_pow, n_nodes=n_nodes, index=21)\n",
    "    \n",
    "    W11_1 = np.abs(W11) - np.abs(W11_pow)\n",
    "    # W11_1 = W11 - W11_pow\n",
    "    W21_1 = np.abs(W21) - np.abs(W21_pow)\n",
    "    # W21_1 = W21 - W21_pow\n",
    "    # Z = np.abs(W11_1) - np.abs(W21_1)\n",
    "    Z = W11_1 - W21_1\n",
    "    print(\n",
    "        \"true: \",\n",
    "        (Z[B_true] > 0).sum() / Z[B_true].size\n",
    "    )\n",
    "    print(\n",
    "        \"null: \",\n",
    "        (Z[~B_true] > 0).sum() / Z[~B_true].size\n",
    "    )\n",
    "    print(\"====================\")\n",
    "    "
   ]
  },
  {
   "cell_type": "code",
   "execution_count": 159,
   "id": "83f3e114-772f-4858-89ad-32493729abde",
   "metadata": {},
   "outputs": [
    {
     "name": "stdout",
     "output_type": "stream",
     "text": [
      "true:  0.95\n",
      "null:  0.496875\n",
      "====================\n",
      "true:  0.95\n",
      "null:  0.446875\n",
      "====================\n",
      "true:  0.95\n",
      "null:  0.478125\n",
      "====================\n",
      "true:  0.95\n",
      "null:  0.471875\n",
      "====================\n",
      "true:  0.9375\n",
      "null:  0.453125\n",
      "====================\n",
      "true:  0.9625\n",
      "null:  0.465625\n",
      "====================\n",
      "true:  0.95\n",
      "null:  0.4375\n",
      "====================\n",
      "true:  0.925\n",
      "null:  0.49375\n",
      "====================\n",
      "true:  0.95\n",
      "null:  0.45625\n",
      "====================\n",
      "true:  0.95\n",
      "null:  0.465625\n",
      "====================\n"
     ]
    }
   ],
   "source": [
    "for i in range(1, 11):\n",
    "    test(20, i)"
   ]
  },
  {
   "cell_type": "code",
   "execution_count": 139,
   "id": "57d6eda0-fdd8-4c6b-9cf2-d6bafd655d76",
   "metadata": {},
   "outputs": [
    {
     "name": "stdout",
     "output_type": "stream",
     "text": [
      "true:  0.9875\n",
      "null:  0.4638888888888889\n",
      "====================\n",
      "true:  0.9875\n",
      "null:  0.46319444444444446\n",
      "====================\n",
      "true:  0.98125\n",
      "null:  0.4486111111111111\n",
      "====================\n",
      "true:  0.98125\n",
      "null:  0.4131944444444444\n",
      "====================\n",
      "true:  0.99375\n",
      "null:  0.45555555555555555\n",
      "====================\n",
      "true:  0.98125\n",
      "null:  0.4513888888888889\n",
      "====================\n",
      "true:  0.9875\n",
      "null:  0.40625\n",
      "====================\n",
      "true:  0.9875\n",
      "null:  0.4673611111111111\n",
      "====================\n",
      "true:  0.98125\n",
      "null:  0.4673611111111111\n",
      "====================\n",
      "true:  0.99375\n",
      "null:  0.47847222222222224\n",
      "====================\n"
     ]
    }
   ],
   "source": [
    "for i in range(1, 11):\n",
    "    test(n_nodes=40, seed=i, version=\"v34/v40\")"
   ]
  },
  {
   "cell_type": "code",
   "execution_count": 140,
   "id": "72cf22ec-a50a-4362-bd8d-92180d62fc01",
   "metadata": {},
   "outputs": [
    {
     "name": "stdout",
     "output_type": "stream",
     "text": [
      "true:  0.9958333333333333\n",
      "null:  0.45148809523809524\n",
      "====================\n",
      "true:  0.9958333333333333\n",
      "null:  0.4461309523809524\n",
      "====================\n",
      "true:  0.9958333333333333\n",
      "null:  0.45148809523809524\n",
      "====================\n",
      "true:  0.9916666666666667\n",
      "null:  0.45089285714285715\n",
      "====================\n",
      "true:  0.9958333333333333\n",
      "null:  0.4523809523809524\n",
      "====================\n",
      "true:  0.9958333333333333\n",
      "null:  0.4529761904761905\n",
      "====================\n",
      "true:  0.9958333333333333\n",
      "null:  0.45714285714285713\n",
      "====================\n",
      "true:  1.0\n",
      "null:  0.4583333333333333\n",
      "====================\n",
      "true:  0.9958333333333333\n",
      "null:  0.45803571428571427\n",
      "====================\n",
      "true:  0.9958333333333333\n",
      "null:  0.43333333333333335\n",
      "====================\n"
     ]
    }
   ],
   "source": [
    "for i in range(1, 11):\n",
    "    test(n_nodes=60, seed=i, version=\"v34/v60\")"
   ]
  },
  {
   "cell_type": "code",
   "execution_count": 142,
   "id": "1d075436-d5a8-4c6b-9474-cf6e21e175f2",
   "metadata": {},
   "outputs": [
    {
     "name": "stdout",
     "output_type": "stream",
     "text": [
      "true:  0.978125\n",
      "null:  0.4924342105263158\n",
      "====================\n",
      "true:  0.975\n",
      "null:  0.4980263157894737\n",
      "====================\n",
      "true:  0.978125\n",
      "null:  0.4957236842105263\n",
      "====================\n",
      "true:  0.978125\n",
      "null:  0.5080592105263158\n",
      "====================\n",
      "true:  0.978125\n",
      "null:  0.49276315789473685\n",
      "====================\n",
      "true:  0.975\n",
      "null:  0.5059210526315789\n",
      "====================\n",
      "true:  0.98125\n",
      "null:  0.49358552631578945\n",
      "====================\n",
      "true:  0.98125\n",
      "null:  0.4901315789473684\n",
      "====================\n",
      "true:  0.975\n",
      "null:  0.5042763157894737\n",
      "====================\n",
      "true:  0.978125\n",
      "null:  0.5004934210526316\n",
      "====================\n"
     ]
    }
   ],
   "source": [
    "for i in range(1, 11):\n",
    "    test(n_nodes=80, seed=i, version=\"v34/v80\")"
   ]
  },
  {
   "cell_type": "code",
   "execution_count": 143,
   "id": "f3dda2eb-3167-4d22-9c5a-8e7e102137d2",
   "metadata": {},
   "outputs": [
    {
     "name": "stdout",
     "output_type": "stream",
     "text": [
      "true:  0.9775\n",
      "null:  0.47729166666666667\n",
      "====================\n",
      "true:  0.9775\n",
      "null:  0.4605208333333333\n",
      "====================\n",
      "true:  0.9825\n",
      "null:  0.46427083333333335\n",
      "====================\n",
      "true:  0.975\n",
      "null:  0.47072916666666664\n",
      "====================\n",
      "true:  0.9775\n",
      "null:  0.4657291666666667\n",
      "====================\n",
      "true:  0.97\n",
      "null:  0.4708333333333333\n",
      "====================\n",
      "true:  0.9775\n",
      "null:  0.461875\n",
      "====================\n",
      "true:  0.985\n",
      "null:  0.47552083333333334\n",
      "====================\n",
      "true:  0.9825\n",
      "null:  0.4586458333333333\n",
      "====================\n",
      "true:  0.98\n",
      "null:  0.47854166666666664\n",
      "====================\n"
     ]
    }
   ],
   "source": [
    "for i in range(1, 11):\n",
    "    test(n_nodes=100, seed=i, version=\"v34/v100\")"
   ]
  },
  {
   "cell_type": "markdown",
   "id": "fde16236-ca6a-4865-b9c0-f3efa9068a6c",
   "metadata": {
    "jp-MarkdownHeadingCollapsed": true
   },
   "source": [
    "# investigation: |W11|n vs |W11^2|n"
   ]
  },
  {
   "cell_type": "code",
   "execution_count": 198,
   "id": "a2a7d5a5-8235-4518-a92d-960e9d10560c",
   "metadata": {},
   "outputs": [
    {
     "data": {
      "text/plain": [
       "0.784375"
      ]
     },
     "execution_count": 198,
     "metadata": {},
     "output_type": "execute_result"
    }
   ],
   "source": [
    "W11 = get_block(W_est, index=11)\n",
    "k = 2\n",
    "W_est_pow = np.linalg.matrix_power(W_est, k)\n",
    "W11_pow = get_block(W_est_pow, index=11)\n",
    "mask = (np.abs(W11)[~B_true] < np.abs(W11_pow)[~B_true])\n",
    "mask.sum() / mask.size"
   ]
  },
  {
   "cell_type": "markdown",
   "id": "6b91e322-ab8f-403d-904d-aa20b77149cf",
   "metadata": {
    "jp-MarkdownHeadingCollapsed": true
   },
   "source": [
    "# investigation: |W11|t vs |W11|n"
   ]
  },
  {
   "cell_type": "code",
   "execution_count": 213,
   "id": "15667c86-b619-435d-9b8b-76a9dea8bf9d",
   "metadata": {},
   "outputs": [
    {
     "name": "stdout",
     "output_type": "stream",
     "text": [
      "0.8152303454112904\n",
      "0.016080821570380512\n"
     ]
    }
   ],
   "source": [
    "W11 = get_block(W_est, index=11)\n",
    "print(np.abs(W11[B_true]).mean())\n",
    "print(np.abs(W11[~B_true]).mean())"
   ]
  },
  {
   "cell_type": "markdown",
   "id": "88c818fe-a783-49f2-b400-ddb04d19c993",
   "metadata": {
    "jp-MarkdownHeadingCollapsed": true
   },
   "source": [
    "# investigation: |W21|n vs |W21^2|n"
   ]
  },
  {
   "cell_type": "code",
   "execution_count": 207,
   "id": "20a6a54d-7987-4047-90a0-2ef4ecdfb4dc",
   "metadata": {},
   "outputs": [
    {
     "data": {
      "text/plain": [
       "0.675"
      ]
     },
     "execution_count": 207,
     "metadata": {},
     "output_type": "execute_result"
    }
   ],
   "source": [
    "W21 = get_block(W_est, index=21)\n",
    "k = 2\n",
    "W_est_pow = np.linalg.matrix_power(W_est, k)\n",
    "W21_pow = get_block(W_est_pow, index=21)\n",
    "mask = (np.abs(W21)[~B_true] < np.abs(W21_pow)[~B_true])\n",
    "mask.sum() / mask.size"
   ]
  },
  {
   "cell_type": "markdown",
   "id": "8ca65848-cc14-451c-8ea8-65952defdf22",
   "metadata": {
    "jp-MarkdownHeadingCollapsed": true
   },
   "source": [
    "# investigation: |W21|T vs |W21|n"
   ]
  },
  {
   "cell_type": "code",
   "execution_count": 211,
   "id": "ce512e92-9b1b-4aef-83d9-031d491e79ed",
   "metadata": {},
   "outputs": [
    {
     "name": "stdout",
     "output_type": "stream",
     "text": [
      "0.1055521152191323\n",
      "0.014201883519173944\n"
     ]
    }
   ],
   "source": [
    "k = 2\n",
    "W_est_pow = np.linalg.matrix_power(W_est, k)\n",
    "W21_pow = get_block(W_est_pow, index=21)\n",
    "print(np.abs(W21_pow[B_true]).mean())\n",
    "print(np.abs(W21_pow[~B_true]).mean())"
   ]
  },
  {
   "cell_type": "markdown",
   "id": "995d6e7f-7089-400b-a7c4-7e9c3e0123d8",
   "metadata": {
    "jp-MarkdownHeadingCollapsed": true
   },
   "source": [
    "# investigation: |W11|T vs |W11^2|T"
   ]
  },
  {
   "cell_type": "code",
   "execution_count": 200,
   "id": "6ac2ac5d-b508-42a4-834e-981eaf7588cf",
   "metadata": {},
   "outputs": [
    {
     "data": {
      "text/plain": [
       "0.5625"
      ]
     },
     "execution_count": 200,
     "metadata": {},
     "output_type": "execute_result"
    }
   ],
   "source": [
    "W11 = get_block(W_est, index=11)\n",
    "k = 2\n",
    "W_est_pow = np.linalg.matrix_power(W_est, k)\n",
    "W11_pow = get_block(W_est_pow, index=11)\n",
    "mask = (np.abs(W11)[B_true] > np.abs(W11_pow)[B_true])\n",
    "mask.sum() / mask.size"
   ]
  },
  {
   "cell_type": "markdown",
   "id": "e19a3ce1-99aa-4f34-acbc-c317ddb6e9a7",
   "metadata": {
    "jp-MarkdownHeadingCollapsed": true
   },
   "source": [
    "# investigation: |W21|T vs |W21^2|T"
   ]
  },
  {
   "cell_type": "code",
   "execution_count": 208,
   "id": "99798c9f-ab3e-48dc-abbe-0c26572f5ef4",
   "metadata": {},
   "outputs": [
    {
     "data": {
      "text/plain": [
       "0.1625"
      ]
     },
     "execution_count": 208,
     "metadata": {},
     "output_type": "execute_result"
    }
   ],
   "source": [
    "W21 = get_block(W_est, index=21)\n",
    "k = 2\n",
    "W_est_pow = np.linalg.matrix_power(W_est, k)\n",
    "W21_pow = get_block(W_est_pow, index=21)\n",
    "mask = (np.abs(W21)[B_true] > np.abs(W21_pow)[B_true])\n",
    "mask.sum() / mask.size"
   ]
  },
  {
   "cell_type": "markdown",
   "id": "5fa7ebc4-ea4f-4875-b526-c77effc4f7e0",
   "metadata": {
    "jp-MarkdownHeadingCollapsed": true
   },
   "source": [
    "# investigation: |W11^2|n vs |W11^2|T"
   ]
  },
  {
   "cell_type": "code",
   "execution_count": 202,
   "id": "61d9bf42-e8e0-4a4e-a1b0-48faf23f64c8",
   "metadata": {},
   "outputs": [
    {
     "data": {
      "text/plain": [
       "0.5662025796610528"
      ]
     },
     "execution_count": 202,
     "metadata": {},
     "output_type": "execute_result"
    }
   ],
   "source": [
    "k = 2\n",
    "W_est_pow = np.linalg.matrix_power(W_est, k)\n",
    "W11_pow = get_block(W_est_pow, index=11)\n",
    "np.abs(W11_pow)[B_true].mean() - np.abs(W11_pow)[~B_true].mean()"
   ]
  },
  {
   "cell_type": "code",
   "execution_count": 203,
   "id": "fe8585fb-edaa-4a33-ae3f-e3298438dac1",
   "metadata": {},
   "outputs": [
    {
     "data": {
      "text/plain": [
       "0.7867286667539762"
      ]
     },
     "execution_count": 203,
     "metadata": {},
     "output_type": "execute_result"
    }
   ],
   "source": [
    "np.abs(W11_pow)[B_true].mean()"
   ]
  },
  {
   "cell_type": "code",
   "execution_count": 204,
   "id": "c71e2c1a-a416-4964-84fb-de8ed71e2712",
   "metadata": {},
   "outputs": [
    {
     "data": {
      "text/plain": [
       "0.22052608709292337"
      ]
     },
     "execution_count": 204,
     "metadata": {},
     "output_type": "execute_result"
    }
   ],
   "source": [
    "np.abs(W11_pow)[~B_true].mean()"
   ]
  },
  {
   "cell_type": "code",
   "execution_count": 214,
   "id": "29bbcb3c-cd66-4bf1-8a35-57b0827dad94",
   "metadata": {},
   "outputs": [],
   "source": [
    "coef = 1 - (np.abs(W11) - np.abs(W11).min()) / (np.abs(W11).max() - np.abs(W11).min())"
   ]
  },
  {
   "cell_type": "markdown",
   "id": "d62b9eb3-19e1-4ca0-8c6f-8c9bfd1d76e0",
   "metadata": {
    "jp-MarkdownHeadingCollapsed": true
   },
   "source": [
    "# Misc"
   ]
  },
  {
   "cell_type": "code",
   "execution_count": 217,
   "id": "9371b274-527f-4ce9-8bf1-0f12b911fd3f",
   "metadata": {},
   "outputs": [
    {
     "name": "stdout",
     "output_type": "stream",
     "text": [
      "0.42105263157894735\n",
      "0.20512820512820512\n",
      "0.13559322033898305\n",
      "0.10126582278481013\n",
      "0.08080808080808081\n"
     ]
    }
   ],
   "source": [
    "for _n_nodes in [20, 40, 60, 80, 100]:\n",
    "    s0 = 4 * _n_nodes\n",
    "    print(2 * s0 / (_n_nodes * (_n_nodes - 1)))"
   ]
  },
  {
   "cell_type": "code",
   "execution_count": null,
   "id": "08d37c51-8122-4543-9358-6975224ffec9",
   "metadata": {},
   "outputs": [],
   "source": [
    "B_true = utils_dagma.simulate_dag(80, 480, 'ER')\n",
    "W_true = utils_dagma.simulate_parameter(B_true)\n",
    "X = utils_dagma.simulate_linear_sem(W_true, 2000, configs['sem_type'])"
   ]
  }
 ],
 "metadata": {
  "kernelspec": {
   "display_name": "Python 3 (ipykernel)",
   "language": "python",
   "name": "python3"
  },
  "language_info": {
   "codemirror_mode": {
    "name": "ipython",
    "version": 3
   },
   "file_extension": ".py",
   "mimetype": "text/x-python",
   "name": "python",
   "nbconvert_exporter": "python",
   "pygments_lexer": "ipython3",
   "version": "3.9.19"
  }
 },
 "nbformat": 4,
 "nbformat_minor": 5
}
