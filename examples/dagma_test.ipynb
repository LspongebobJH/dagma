{
 "cells": [
  {
   "attachments": {},
   "cell_type": "markdown",
   "metadata": {},
   "source": [
    "### Import packages"
   ]
  },
  {
   "cell_type": "code",
   "execution_count": 16,
   "metadata": {},
   "outputs": [],
   "source": [
    "import torch\n",
    "from dagma import utils\n",
    "from dagma.linear import DagmaLinear\n",
    "from dagma.nonlinear import DagmaMLP, DagmaNonlinear"
   ]
  },
  {
   "attachments": {},
   "cell_type": "markdown",
   "metadata": {},
   "source": [
    "### Generate data"
   ]
  },
  {
   "cell_type": "code",
   "execution_count": 17,
   "metadata": {},
   "outputs": [],
   "source": [
    "utils.set_random_seed(1)\n",
    "# Create an Erdos-Renyi DAG of 20 nodes and 20 edges in expectation with Gaussian noise\n",
    "# number of samples n = 500\n",
    "n, d, s0 = 500, 20, 20 \n",
    "graph_type, sem_type = 'ER', 'gauss'\n",
    "\n",
    "B_true = utils.simulate_dag(d, s0, graph_type)\n",
    "W_true = utils.simulate_parameter(B_true)\n",
    "X = utils.simulate_linear_sem(W_true, n, sem_type)"
   ]
  },
  {
   "attachments": {},
   "cell_type": "markdown",
   "metadata": {},
   "source": [
    "### Test Linear Model"
   ]
  },
  {
   "cell_type": "code",
   "execution_count": 3,
   "metadata": {},
   "outputs": [
    {
     "data": {
      "application/vnd.jupyter.widget-view+json": {
       "model_id": "c42e133c41d1423b9339abf2688a52ab",
       "version_major": 2,
       "version_minor": 0
      },
      "text/plain": [
       "  0%|          | 0/180000.0 [00:00<?, ?it/s]"
      ]
     },
     "metadata": {},
     "output_type": "display_data"
    },
    {
     "name": "stdout",
     "output_type": "stream",
     "text": [
      "{'fdr': 0.0, 'tpr': 1.0, 'fpr': 0.0, 'shd': 0, 'nnz': 20}\n"
     ]
    }
   ],
   "source": [
    "model = DagmaLinear(loss_type='l2') # create a linear model with least squares loss\n",
    "W_est = model.fit(X, lambda1=0.02) # fit the model with L1 reg. (coeff. 0.02)\n",
    "acc = utils.count_accuracy(B_true, W_est != 0) # compute metrics of estimated adjacency matrix W_est with ground-truth\n",
    "print(acc)"
   ]
  },
  {
   "cell_type": "markdown",
   "metadata": {},
   "source": [
    "### Test Linear Model with Large Scale"
   ]
  },
  {
   "cell_type": "code",
   "execution_count": 18,
   "metadata": {},
   "outputs": [
    {
     "data": {
      "application/vnd.jupyter.widget-view+json": {
       "model_id": "072b99a74f594cc5a07ce2e77db2c899",
       "version_major": 2,
       "version_minor": 0
      },
      "text/plain": [
       "  0%|          | 0/180000.0 [00:00<?, ?it/s]"
      ]
     },
     "metadata": {},
     "output_type": "display_data"
    },
    {
     "ename": "KeyboardInterrupt",
     "evalue": "",
     "output_type": "error",
     "traceback": [
      "\u001b[0;31m---------------------------------------------------------------------------\u001b[0m",
      "\u001b[0;31mKeyboardInterrupt\u001b[0m                         Traceback (most recent call last)",
      "Cell \u001b[0;32mIn[18], line 12\u001b[0m\n\u001b[1;32m      9\u001b[0m X \u001b[38;5;241m=\u001b[39m utils\u001b[38;5;241m.\u001b[39msimulate_linear_sem(W_true, n, sem_type)\n\u001b[1;32m     11\u001b[0m model \u001b[38;5;241m=\u001b[39m DagmaLinear(loss_type\u001b[38;5;241m=\u001b[39m\u001b[38;5;124m'\u001b[39m\u001b[38;5;124ml2\u001b[39m\u001b[38;5;124m'\u001b[39m) \u001b[38;5;66;03m# create a linear model with least squares loss\u001b[39;00m\n\u001b[0;32m---> 12\u001b[0m W_est \u001b[38;5;241m=\u001b[39m \u001b[43mmodel\u001b[49m\u001b[38;5;241;43m.\u001b[39;49m\u001b[43mfit\u001b[49m\u001b[43m(\u001b[49m\u001b[43mX\u001b[49m\u001b[43m,\u001b[49m\u001b[43m \u001b[49m\u001b[43mlambda1\u001b[49m\u001b[38;5;241;43m=\u001b[39;49m\u001b[38;5;241;43m0.02\u001b[39;49m\u001b[43m)\u001b[49m \u001b[38;5;66;03m# fit the model with L1 reg. (coeff. 0.02)\u001b[39;00m\n\u001b[1;32m     13\u001b[0m acc \u001b[38;5;241m=\u001b[39m utils\u001b[38;5;241m.\u001b[39mcount_accuracy(B_true, W_est \u001b[38;5;241m!=\u001b[39m \u001b[38;5;241m0\u001b[39m) \u001b[38;5;66;03m# compute metrics of estimated adjacency matrix W_est with ground-truth\u001b[39;00m\n\u001b[1;32m     14\u001b[0m \u001b[38;5;28mprint\u001b[39m(acc)\n",
      "File \u001b[0;32m~/anaconda3/envs/knock/lib/python3.9/site-packages/dagma/linear.py:343\u001b[0m, in \u001b[0;36mDagmaLinear.fit\u001b[0;34m(self, X, lambda1, w_threshold, T, mu_init, mu_factor, s, warm_iter, max_iter, lr, checkpoint, beta_1, beta_2, exclude_edges, include_edges)\u001b[0m\n\u001b[1;32m    341\u001b[0m inner_iters \u001b[38;5;241m=\u001b[39m \u001b[38;5;28mint\u001b[39m(max_iter) \u001b[38;5;28;01mif\u001b[39;00m i \u001b[38;5;241m==\u001b[39m T \u001b[38;5;241m-\u001b[39m \u001b[38;5;241m1\u001b[39m \u001b[38;5;28;01melse\u001b[39;00m \u001b[38;5;28mint\u001b[39m(warm_iter)\n\u001b[1;32m    342\u001b[0m \u001b[38;5;28;01mwhile\u001b[39;00m success \u001b[38;5;129;01mis\u001b[39;00m \u001b[38;5;28;01mFalse\u001b[39;00m:\n\u001b[0;32m--> 343\u001b[0m     W_temp, success \u001b[38;5;241m=\u001b[39m \u001b[38;5;28;43mself\u001b[39;49m\u001b[38;5;241;43m.\u001b[39;49m\u001b[43mminimize\u001b[49m\u001b[43m(\u001b[49m\u001b[38;5;28;43mself\u001b[39;49m\u001b[38;5;241;43m.\u001b[39;49m\u001b[43mW_est\u001b[49m\u001b[38;5;241;43m.\u001b[39;49m\u001b[43mcopy\u001b[49m\u001b[43m(\u001b[49m\u001b[43m)\u001b[49m\u001b[43m,\u001b[49m\u001b[43m \u001b[49m\u001b[43mmu\u001b[49m\u001b[43m,\u001b[49m\u001b[43m \u001b[49m\u001b[43minner_iters\u001b[49m\u001b[43m,\u001b[49m\u001b[43m \u001b[49m\u001b[43ms\u001b[49m\u001b[43m[\u001b[49m\u001b[43mi\u001b[49m\u001b[43m]\u001b[49m\u001b[43m,\u001b[49m\u001b[43m \u001b[49m\u001b[43mlr\u001b[49m\u001b[38;5;241;43m=\u001b[39;49m\u001b[43mlr_adam\u001b[49m\u001b[43m,\u001b[49m\u001b[43m \u001b[49m\u001b[43mbeta_1\u001b[49m\u001b[38;5;241;43m=\u001b[39;49m\u001b[43mbeta_1\u001b[49m\u001b[43m,\u001b[49m\u001b[43m \u001b[49m\u001b[43mbeta_2\u001b[49m\u001b[38;5;241;43m=\u001b[39;49m\u001b[43mbeta_2\u001b[49m\u001b[43m,\u001b[49m\u001b[43m \u001b[49m\u001b[43mpbar\u001b[49m\u001b[38;5;241;43m=\u001b[39;49m\u001b[43mpbar\u001b[49m\u001b[43m)\u001b[49m\n\u001b[1;32m    344\u001b[0m     \u001b[38;5;28;01mif\u001b[39;00m success \u001b[38;5;129;01mis\u001b[39;00m \u001b[38;5;28;01mFalse\u001b[39;00m:\n\u001b[1;32m    345\u001b[0m         \u001b[38;5;28mself\u001b[39m\u001b[38;5;241m.\u001b[39mvprint(\u001b[38;5;124mf\u001b[39m\u001b[38;5;124m'\u001b[39m\u001b[38;5;124mRetrying with larger s\u001b[39m\u001b[38;5;124m'\u001b[39m)\n",
      "File \u001b[0;32m~/anaconda3/envs/knock/lib/python3.9/site-packages/dagma/linear.py:191\u001b[0m, in \u001b[0;36mDagmaLinear.minimize\u001b[0;34m(self, W, mu, max_iter, s, lr, tol, beta_1, beta_2, pbar)\u001b[0m\n\u001b[1;32m    187\u001b[0m         mask_exc[\u001b[38;5;28mself\u001b[39m\u001b[38;5;241m.\u001b[39mexc_r, \u001b[38;5;28mself\u001b[39m\u001b[38;5;241m.\u001b[39mexc_c] \u001b[38;5;241m=\u001b[39m \u001b[38;5;241m0.\u001b[39m\n\u001b[1;32m    189\u001b[0m \u001b[38;5;28;01mfor\u001b[39;00m \u001b[38;5;28miter\u001b[39m \u001b[38;5;129;01min\u001b[39;00m \u001b[38;5;28mrange\u001b[39m(\u001b[38;5;241m1\u001b[39m, max_iter\u001b[38;5;241m+\u001b[39m\u001b[38;5;241m1\u001b[39m):\n\u001b[1;32m    190\u001b[0m     \u001b[38;5;66;03m## Compute the (sub)gradient of the objective\u001b[39;00m\n\u001b[0;32m--> 191\u001b[0m     M \u001b[38;5;241m=\u001b[39m \u001b[43msla\u001b[49m\u001b[38;5;241;43m.\u001b[39;49m\u001b[43minv\u001b[49m\u001b[43m(\u001b[49m\u001b[43ms\u001b[49m\u001b[43m \u001b[49m\u001b[38;5;241;43m*\u001b[39;49m\u001b[43m \u001b[49m\u001b[38;5;28;43mself\u001b[39;49m\u001b[38;5;241;43m.\u001b[39;49m\u001b[43mId\u001b[49m\u001b[43m \u001b[49m\u001b[38;5;241;43m-\u001b[39;49m\u001b[43m \u001b[49m\u001b[43mW\u001b[49m\u001b[43m \u001b[49m\u001b[38;5;241;43m*\u001b[39;49m\u001b[43m \u001b[49m\u001b[43mW\u001b[49m\u001b[43m)\u001b[49m \u001b[38;5;241m+\u001b[39m \u001b[38;5;241m1e-16\u001b[39m\n\u001b[1;32m    192\u001b[0m     \u001b[38;5;28;01mwhile\u001b[39;00m np\u001b[38;5;241m.\u001b[39many(M \u001b[38;5;241m<\u001b[39m \u001b[38;5;241m0\u001b[39m): \u001b[38;5;66;03m# sI - W o W is not an M-matrix\u001b[39;00m\n\u001b[1;32m    193\u001b[0m         \u001b[38;5;28;01mif\u001b[39;00m \u001b[38;5;28miter\u001b[39m \u001b[38;5;241m==\u001b[39m \u001b[38;5;241m1\u001b[39m \u001b[38;5;129;01mor\u001b[39;00m s \u001b[38;5;241m<\u001b[39m\u001b[38;5;241m=\u001b[39m \u001b[38;5;241m0.9\u001b[39m:\n",
      "File \u001b[0;32m~/anaconda3/envs/knock/lib/python3.9/site-packages/scipy/linalg/_basic.py:958\u001b[0m, in \u001b[0;36minv\u001b[0;34m(a, overwrite_a, check_finite)\u001b[0m\n\u001b[1;32m    951\u001b[0m     \u001b[38;5;66;03m# XXX: the following line fixes curious SEGFAULT when\u001b[39;00m\n\u001b[1;32m    952\u001b[0m     \u001b[38;5;66;03m# benchmarking 500x500 matrix inverse. This seems to\u001b[39;00m\n\u001b[1;32m    953\u001b[0m     \u001b[38;5;66;03m# be a bug in LAPACK ?getri routine because if lwork is\u001b[39;00m\n\u001b[1;32m    954\u001b[0m     \u001b[38;5;66;03m# minimal (when using lwork[0] instead of lwork[1]) then\u001b[39;00m\n\u001b[1;32m    955\u001b[0m     \u001b[38;5;66;03m# all tests pass. Further investigation is required if\u001b[39;00m\n\u001b[1;32m    956\u001b[0m     \u001b[38;5;66;03m# more such SEGFAULTs occur.\u001b[39;00m\n\u001b[1;32m    957\u001b[0m     lwork \u001b[38;5;241m=\u001b[39m \u001b[38;5;28mint\u001b[39m(\u001b[38;5;241m1.01\u001b[39m \u001b[38;5;241m*\u001b[39m lwork)\n\u001b[0;32m--> 958\u001b[0m     inv_a, info \u001b[38;5;241m=\u001b[39m \u001b[43mgetri\u001b[49m\u001b[43m(\u001b[49m\u001b[43mlu\u001b[49m\u001b[43m,\u001b[49m\u001b[43m \u001b[49m\u001b[43mpiv\u001b[49m\u001b[43m,\u001b[49m\u001b[43m \u001b[49m\u001b[43mlwork\u001b[49m\u001b[38;5;241;43m=\u001b[39;49m\u001b[43mlwork\u001b[49m\u001b[43m,\u001b[49m\u001b[43m \u001b[49m\u001b[43moverwrite_lu\u001b[49m\u001b[38;5;241;43m=\u001b[39;49m\u001b[38;5;241;43m1\u001b[39;49m\u001b[43m)\u001b[49m\n\u001b[1;32m    959\u001b[0m \u001b[38;5;28;01mif\u001b[39;00m info \u001b[38;5;241m>\u001b[39m \u001b[38;5;241m0\u001b[39m:\n\u001b[1;32m    960\u001b[0m     \u001b[38;5;28;01mraise\u001b[39;00m LinAlgError(\u001b[38;5;124m\"\u001b[39m\u001b[38;5;124msingular matrix\u001b[39m\u001b[38;5;124m\"\u001b[39m)\n",
      "\u001b[0;31mKeyboardInterrupt\u001b[0m: "
     ]
    }
   ],
   "source": [
    "utils.set_random_seed(1)\n",
    "# Create an Erdos-Renyi DAG of 20 nodes and 20 edges in expectation with Gaussian noise\n",
    "# number of samples n = 500\n",
    "n, d, s0 = 2000, 80, 100 \n",
    "graph_type, sem_type = 'ER', 'gauss'\n",
    "\n",
    "B_true = utils.simulate_dag(d, s0, graph_type)\n",
    "W_true = utils.simulate_parameter(B_true)\n",
    "X = utils.simulate_linear_sem(W_true, n, sem_type)\n",
    "\n",
    "model = DagmaLinear(loss_type='l2') # create a linear model with least squares loss\n",
    "W_est = model.fit(X, lambda1=0.02) # fit the model with L1 reg. (coeff. 0.02)\n",
    "acc = utils.count_accuracy(B_true, W_est != 0) # compute metrics of estimated adjacency matrix W_est with ground-truth\n",
    "print(acc)"
   ]
  },
  {
   "attachments": {},
   "cell_type": "markdown",
   "metadata": {},
   "source": [
    "### Test Nonlinear Model"
   ]
  },
  {
   "cell_type": "code",
   "execution_count": 13,
   "metadata": {},
   "outputs": [],
   "source": [
    "X = torch.tensor(X)"
   ]
  },
  {
   "cell_type": "code",
   "execution_count": 14,
   "metadata": {},
   "outputs": [],
   "source": [
    "X = X.cuda(7)"
   ]
  },
  {
   "cell_type": "code",
   "execution_count": 15,
   "metadata": {},
   "outputs": [
    {
     "data": {
      "application/vnd.jupyter.widget-view+json": {
       "model_id": "fd55332e3f7f4f76b5f21b535f38440c",
       "version_major": 2,
       "version_minor": 0
      },
      "text/plain": [
       "  0%|          | 0/230000.0 [00:00<?, ?it/s]"
      ]
     },
     "metadata": {},
     "output_type": "display_data"
    },
    {
     "ename": "RuntimeError",
     "evalue": "Expected all tensors to be on the same device, but found at least two devices, cuda:7 and cpu!",
     "output_type": "error",
     "traceback": [
      "\u001b[0;31m---------------------------------------------------------------------------\u001b[0m",
      "\u001b[0;31mRuntimeError\u001b[0m                              Traceback (most recent call last)",
      "Cell \u001b[0;32mIn[15], line 5\u001b[0m\n\u001b[1;32m      3\u001b[0m eq_model \u001b[38;5;241m=\u001b[39m eq_model\u001b[38;5;241m.\u001b[39mto(\u001b[38;5;124m'\u001b[39m\u001b[38;5;124mcuda:7\u001b[39m\u001b[38;5;124m'\u001b[39m)\n\u001b[1;32m      4\u001b[0m model \u001b[38;5;241m=\u001b[39m DagmaNonlinear(eq_model, dtype\u001b[38;5;241m=\u001b[39mtorch\u001b[38;5;241m.\u001b[39mdouble) \u001b[38;5;66;03m# create the model for DAG learning\u001b[39;00m\n\u001b[0;32m----> 5\u001b[0m W_est \u001b[38;5;241m=\u001b[39m \u001b[43mmodel\u001b[49m\u001b[38;5;241;43m.\u001b[39;49m\u001b[43mfit\u001b[49m\u001b[43m(\u001b[49m\u001b[43mX\u001b[49m\u001b[43m,\u001b[49m\u001b[43m \u001b[49m\u001b[43mlambda1\u001b[49m\u001b[38;5;241;43m=\u001b[39;49m\u001b[38;5;241;43m0.02\u001b[39;49m\u001b[43m,\u001b[49m\u001b[43m \u001b[49m\u001b[43mlambda2\u001b[49m\u001b[38;5;241;43m=\u001b[39;49m\u001b[38;5;241;43m0.005\u001b[39;49m\u001b[43m)\u001b[49m \u001b[38;5;66;03m# fit the model with L1 reg. (coeff. 0.02) and L2 reg. (coeff. 0.005)\u001b[39;00m\n\u001b[1;32m      6\u001b[0m acc \u001b[38;5;241m=\u001b[39m utils\u001b[38;5;241m.\u001b[39mcount_accuracy(B_true, W_est \u001b[38;5;241m!=\u001b[39m \u001b[38;5;241m0\u001b[39m) \u001b[38;5;66;03m# compute metrics of estimated adjacency matrix W_est with ground-truth\u001b[39;00m\n\u001b[1;32m      7\u001b[0m \u001b[38;5;28mprint\u001b[39m(acc)\n",
      "File \u001b[0;32m~/anaconda3/envs/knock/lib/python3.9/site-packages/dagma/nonlinear.py:319\u001b[0m, in \u001b[0;36mDagmaNonlinear.fit\u001b[0;34m(self, X, lambda1, lambda2, T, mu_init, mu_factor, s, warm_iter, max_iter, lr, w_threshold, checkpoint)\u001b[0m\n\u001b[1;32m    317\u001b[0m lr_decay \u001b[38;5;241m=\u001b[39m \u001b[38;5;28;01mFalse\u001b[39;00m\n\u001b[1;32m    318\u001b[0m \u001b[38;5;28;01mwhile\u001b[39;00m success \u001b[38;5;129;01mis\u001b[39;00m \u001b[38;5;28;01mFalse\u001b[39;00m:\n\u001b[0;32m--> 319\u001b[0m     success \u001b[38;5;241m=\u001b[39m \u001b[38;5;28;43mself\u001b[39;49m\u001b[38;5;241;43m.\u001b[39;49m\u001b[43mminimize\u001b[49m\u001b[43m(\u001b[49m\u001b[43minner_iter\u001b[49m\u001b[43m,\u001b[49m\u001b[43m \u001b[49m\u001b[43mlr\u001b[49m\u001b[43m,\u001b[49m\u001b[43m \u001b[49m\u001b[43mlambda1\u001b[49m\u001b[43m,\u001b[49m\u001b[43m \u001b[49m\u001b[43mlambda2\u001b[49m\u001b[43m,\u001b[49m\u001b[43m \u001b[49m\u001b[43mmu\u001b[49m\u001b[43m,\u001b[49m\u001b[43m \u001b[49m\u001b[43ms_cur\u001b[49m\u001b[43m,\u001b[49m\u001b[43m \u001b[49m\n\u001b[1;32m    320\u001b[0m \u001b[43m                        \u001b[49m\u001b[43mlr_decay\u001b[49m\u001b[43m,\u001b[49m\u001b[43m \u001b[49m\u001b[43mpbar\u001b[49m\u001b[38;5;241;43m=\u001b[39;49m\u001b[43mpbar\u001b[49m\u001b[43m)\u001b[49m\n\u001b[1;32m    321\u001b[0m     \u001b[38;5;28;01mif\u001b[39;00m success \u001b[38;5;129;01mis\u001b[39;00m \u001b[38;5;28;01mFalse\u001b[39;00m:\n\u001b[1;32m    322\u001b[0m         \u001b[38;5;28mself\u001b[39m\u001b[38;5;241m.\u001b[39mmodel\u001b[38;5;241m.\u001b[39mload_state_dict(model_copy\u001b[38;5;241m.\u001b[39mstate_dict()\u001b[38;5;241m.\u001b[39mcopy())\n",
      "File \u001b[0;32m~/anaconda3/envs/knock/lib/python3.9/site-packages/dagma/nonlinear.py:214\u001b[0m, in \u001b[0;36mDagmaNonlinear.minimize\u001b[0;34m(self, max_iter, lr, lambda1, lambda2, mu, s, lr_decay, tol, pbar)\u001b[0m\n\u001b[1;32m    212\u001b[0m \u001b[38;5;28;01mfor\u001b[39;00m i \u001b[38;5;129;01min\u001b[39;00m \u001b[38;5;28mrange\u001b[39m(max_iter):\n\u001b[1;32m    213\u001b[0m     optimizer\u001b[38;5;241m.\u001b[39mzero_grad()\n\u001b[0;32m--> 214\u001b[0m     h_val \u001b[38;5;241m=\u001b[39m \u001b[38;5;28;43mself\u001b[39;49m\u001b[38;5;241;43m.\u001b[39;49m\u001b[43mmodel\u001b[49m\u001b[38;5;241;43m.\u001b[39;49m\u001b[43mh_func\u001b[49m\u001b[43m(\u001b[49m\u001b[43ms\u001b[49m\u001b[43m)\u001b[49m\n\u001b[1;32m    215\u001b[0m     \u001b[38;5;28;01mif\u001b[39;00m h_val\u001b[38;5;241m.\u001b[39mitem() \u001b[38;5;241m<\u001b[39m \u001b[38;5;241m0\u001b[39m:\n\u001b[1;32m    216\u001b[0m         \u001b[38;5;28mself\u001b[39m\u001b[38;5;241m.\u001b[39mvprint(\u001b[38;5;124mf\u001b[39m\u001b[38;5;124m'\u001b[39m\u001b[38;5;124mFound h negative \u001b[39m\u001b[38;5;132;01m{\u001b[39;00mh_val\u001b[38;5;241m.\u001b[39mitem()\u001b[38;5;132;01m}\u001b[39;00m\u001b[38;5;124m at iter \u001b[39m\u001b[38;5;132;01m{\u001b[39;00mi\u001b[38;5;132;01m}\u001b[39;00m\u001b[38;5;124m'\u001b[39m)\n",
      "File \u001b[0;32m~/anaconda3/envs/knock/lib/python3.9/site-packages/dagma/nonlinear.py:85\u001b[0m, in \u001b[0;36mDagmaMLP.h_func\u001b[0;34m(self, s)\u001b[0m\n\u001b[1;32m     83\u001b[0m fc1_weight \u001b[38;5;241m=\u001b[39m fc1_weight\u001b[38;5;241m.\u001b[39mview(\u001b[38;5;28mself\u001b[39m\u001b[38;5;241m.\u001b[39md, \u001b[38;5;241m-\u001b[39m\u001b[38;5;241m1\u001b[39m, \u001b[38;5;28mself\u001b[39m\u001b[38;5;241m.\u001b[39md)\n\u001b[1;32m     84\u001b[0m A \u001b[38;5;241m=\u001b[39m torch\u001b[38;5;241m.\u001b[39msum(fc1_weight \u001b[38;5;241m*\u001b[39m\u001b[38;5;241m*\u001b[39m \u001b[38;5;241m2\u001b[39m, dim\u001b[38;5;241m=\u001b[39m\u001b[38;5;241m1\u001b[39m)\u001b[38;5;241m.\u001b[39mt()  \u001b[38;5;66;03m# [i, j]\u001b[39;00m\n\u001b[0;32m---> 85\u001b[0m h \u001b[38;5;241m=\u001b[39m \u001b[38;5;241m-\u001b[39mtorch\u001b[38;5;241m.\u001b[39mslogdet(\u001b[43ms\u001b[49m\u001b[43m \u001b[49m\u001b[38;5;241;43m*\u001b[39;49m\u001b[43m \u001b[49m\u001b[38;5;28;43mself\u001b[39;49m\u001b[38;5;241;43m.\u001b[39;49m\u001b[43mI\u001b[49m\u001b[43m \u001b[49m\u001b[38;5;241;43m-\u001b[39;49m\u001b[43m \u001b[49m\u001b[43mA\u001b[49m)[\u001b[38;5;241m1\u001b[39m] \u001b[38;5;241m+\u001b[39m \u001b[38;5;28mself\u001b[39m\u001b[38;5;241m.\u001b[39md \u001b[38;5;241m*\u001b[39m np\u001b[38;5;241m.\u001b[39mlog(s)\n\u001b[1;32m     86\u001b[0m \u001b[38;5;28;01mreturn\u001b[39;00m h\n",
      "\u001b[0;31mRuntimeError\u001b[0m: Expected all tensors to be on the same device, but found at least two devices, cuda:7 and cpu!"
     ]
    }
   ],
   "source": [
    "# note: using torch.double instead of torch.float gives better result for larger num of nodes\n",
    "eq_model = DagmaMLP(dims=[d, 10, 1], bias=True, dtype=torch.double) # create the model for the structural equations, in this case MLPs\n",
    "eq_model = eq_model.to('cuda:7')\n",
    "model = DagmaNonlinear(eq_model, dtype=torch.double) # create the model for DAG learning\n",
    "W_est = model.fit(X, lambda1=0.02, lambda2=0.005) # fit the model with L1 reg. (coeff. 0.02) and L2 reg. (coeff. 0.005)\n",
    "acc = utils.count_accuracy(B_true, W_est != 0) # compute metrics of estimated adjacency matrix W_est with ground-truth\n",
    "print(acc)"
   ]
  },
  {
   "cell_type": "code",
   "execution_count": null,
   "metadata": {},
   "outputs": [],
   "source": []
  }
 ],
 "metadata": {
  "kernelspec": {
   "display_name": "Python 3 (ipykernel)",
   "language": "python",
   "name": "python3"
  },
  "language_info": {
   "codemirror_mode": {
    "name": "ipython",
    "version": 3
   },
   "file_extension": ".py",
   "mimetype": "text/x-python",
   "name": "python",
   "nbconvert_exporter": "python",
   "pygments_lexer": "ipython3",
   "version": "3.9.19"
  }
 },
 "nbformat": 4,
 "nbformat_minor": 4
}
